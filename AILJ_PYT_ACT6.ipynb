{
  "nbformat": 4,
  "nbformat_minor": 0,
  "metadata": {
    "colab": {
      "provenance": [],
      "authorship_tag": "ABX9TyNjBZ1YC8FpLj8fbRmIEoEM",
      "include_colab_link": true
    },
    "kernelspec": {
      "name": "python3",
      "display_name": "Python 3"
    },
    "language_info": {
      "name": "python"
    }
  },
  "cells": [
    {
      "cell_type": "markdown",
      "metadata": {
        "id": "view-in-github",
        "colab_type": "text"
      },
      "source": [
        "<a href=\"https://colab.research.google.com/github/AngelLeal2001/Python2024/blob/main/AILJ_PYT_ACT6.ipynb\" target=\"_parent\"><img src=\"https://colab.research.google.com/assets/colab-badge.svg\" alt=\"Open In Colab\"/></a>"
      ]
    },
    {
      "cell_type": "markdown",
      "source": [
        "#ACTIVIDAD 6\n",
        "Angel Ignacio Leal Juarez\n",
        "\n",
        "11 de Marzo del 2024\n",
        "\n",
        "Git Hub: https://github.com/AngelLeal2001/Python2024.git"
      ],
      "metadata": {
        "id": "Ayk6RuMNX8_X"
      }
    },
    {
      "cell_type": "code",
      "execution_count": 1,
      "metadata": {
        "id": "r3DG8oc0XlK9"
      },
      "outputs": [],
      "source": [
        "import random"
      ]
    },
    {
      "cell_type": "code",
      "source": [
        "def valinum(ri , rf, msge):\n",
        "    while (True):\n",
        "        try:\n",
        "            num = int(input(f\"{msge} ({ri} al {rf}): \"))\n",
        "        except:\n",
        "            print(\"EROR\")\n",
        "            continue\n",
        "        if ( num < ri or num > rf):\n",
        "            print(\"EROR, numero fuera de rango\")\n",
        "            continue\n",
        "        break\n",
        "\n",
        "    return num\n",
        "    #print(f\"\\nEl numero fue {num}\")"
      ],
      "metadata": {
        "id": "pH11TJX0YNEf"
      },
      "execution_count": 2,
      "outputs": []
    },
    {
      "cell_type": "markdown",
      "source": [
        "##1.- FUNCIÓN QUE LEA n CANTIDAD DE NÚMEROS HASTA QUE EL USUARIO LO DESEE, DESPLEGAR LA SUMA DE LOS NÚMEROS, MEDIA Y VALOR DE LOS NÚMEROS MAYORES Y MENORES."
      ],
      "metadata": {
        "id": "VxIpOv2rYHI4"
      }
    },
    {
      "cell_type": "code",
      "source": [
        "def lee_num():\n",
        "    suma = 0\n",
        "    n_mayor = 0\n",
        "    n_menor = 999\n",
        "    i = 0\n",
        "\n",
        "    while True:\n",
        "        num = valinum(ri=0,rf = 999,msge=\"Dame un numero (0 para salir)\")\n",
        "\n",
        "        if num == 0:\n",
        "            break\n",
        "        else:\n",
        "            suma = suma + num\n",
        "            i = i + 1\n",
        "\n",
        "            if (num < n_menor):\n",
        "                n_menor = num\n",
        "            if (num > n_mayor):\n",
        "                n_mayor = num\n",
        "\n",
        "    print(f\"\\nSuma de los numeros: {suma}\")\n",
        "    print(f\"Media de los numeros: {suma / i}\")\n",
        "    print(f\"Numero mayor: {n_mayor}\")\n",
        "    print(f\"Numero menor: {n_menor}\")"
      ],
      "metadata": {
        "id": "AMHuKcSPd5pL"
      },
      "execution_count": 10,
      "outputs": []
    },
    {
      "cell_type": "markdown",
      "source": [
        "##2.- FUNCIÓN QUE GENERE 15 NÚMEROS IMPARES ENTRE 10 Y 60 o MÁXIMO DE 25 NÚMEROS. DESPLEGAR LA MEDIA DE LOS PARES Y MEDIA DE IMPARES."
      ],
      "metadata": {
        "id": "MzA-TFGNgxah"
      }
    },
    {
      "cell_type": "code",
      "source": [
        "def gen_num():\n",
        "    i = 0\n",
        "    par = 0\n",
        "    impar = 0\n",
        "    suma_par = 0\n",
        "    suma_impar = 0\n",
        "\n",
        "    while True:\n",
        "        i = i + 1\n",
        "\n",
        "        num = random.randint(10,60)\n",
        "\n",
        "        if (num % 2 == 0):\n",
        "            par = par + 1\n",
        "            suma_par = suma_par + num\n",
        "            print(f\"{i} .- {num} <-- par\")\n",
        "        else:\n",
        "            impar = impar + 1\n",
        "            suma_impar = suma_impar + num\n",
        "            print(f\"{i} .- {num} <-- impar\")\n",
        "\n",
        "        if (impar == 15):\n",
        "            print(\"\\nLIMITE DE NUMEROS IMPARES ALCANZADO: 15\")\n",
        "            break\n",
        "        if (i == 25):\n",
        "            print(\"\\nLIMITE DE NUMEROS GENERADOS ALCANZADO: 25\")\n",
        "            break\n",
        "\n",
        "    print(f\"\\n Media de los numeros PARES: {suma_par / par}\")\n",
        "    print(f\" Media de los numeros IMPARES: {suma_impar / impar}\")"
      ],
      "metadata": {
        "id": "uedPRZxPg0Y0"
      },
      "execution_count": 11,
      "outputs": []
    },
    {
      "cell_type": "markdown",
      "source": [
        "##3.- FUNCIÓN QUE SIRVA PARA LEER UN RANGO DADO POR EL USUARIO. REPETIR ESTA ACCIÓN HASTA QUE EL USUARIO LO DESEE, DESPLEGAR CANTIDAD DE NUMEROS Y PROMEDIO DE LOS NUMEROS.."
      ],
      "metadata": {
        "id": "053jcEuKjFhm"
      }
    },
    {
      "cell_type": "code",
      "source": [
        "def rango_user():\n",
        "    i = 0\n",
        "    suma = 0\n",
        "\n",
        "    ri = valinum(0,999, \"rango inicial\")\n",
        "    rf = valinum(ri,999, \"rango final\")\n",
        "\n",
        "    while True:\n",
        "        try:\n",
        "            num = int(input(f\"Dame un numero entre {ri} al {rf} (0 para salir): \"))\n",
        "            if num == 0:\n",
        "                print(f\"\\nCantidad de numeros: {i}\")\n",
        "                print(f\"Promedio de los numeros: {suma / i}\")\n",
        "                break\n",
        "            else:\n",
        "                i = i + 1\n",
        "                suma = suma + num\n",
        "                if (num < ri or num > rf):\n",
        "                    raise (ValueError)\n",
        "\n",
        "        except ValueError:\n",
        "            print(\"ERORn, NUMERO FUERA DE RANGO\")\n",
        "            continue\n",
        "\n",
        "        except ZeroDivisionError:\n",
        "            print(\"EROR, NO SE INGRESO NINGUN NUMERO\")\n",
        "        except:\n",
        "            print(\"EROR\")\n",
        "            continue"
      ],
      "metadata": {
        "id": "0GPdaqGTjGs4"
      },
      "execution_count": 14,
      "outputs": []
    },
    {
      "cell_type": "markdown",
      "source": [
        "##4.- FUNCIÓN QUE RECIBA COMO PARÁMETRO LOS VALORES PARA EL ÁREA DE UN TRIANGULO Y RETORNE SU RESULTADO\n",
        "\n"
      ],
      "metadata": {
        "id": "aCJlFMkbphoE"
      }
    },
    {
      "cell_type": "code",
      "source": [
        "def area_triangulo():\n",
        "    h = valinum(0,999, \"Dame la altura del triangulo\")\n",
        "    b = valinum(0,999, \"Dame la base del triangulo\")\n",
        "\n",
        "    area = (b * h) / 2\n",
        "    print(f\"\\nEl area del triangulo es de: {area}\")\n"
      ],
      "metadata": {
        "id": "v7ffMbgSppzu"
      },
      "execution_count": 13,
      "outputs": []
    },
    {
      "cell_type": "markdown",
      "source": [
        "##5.- FUNCION QUE SIRVA QUE SIRVA PARA EVALUAR EL PROMEDIO DE 3 CALIFICACIONES DADAS, SI EL USUARIO SU CALIFICACION ES APROBADA MANDAR MSGE QUE DIGA \"felicidades avanzas al siguiente semestre\", SI LA CALIFICACIONE ESTA REPROBADA EL MENSAGE \"repetir materia \" EL ALUMNO TENDRA UN MAXIMO DE CURSAR 3 VESES LA MATERIA, SI LA REPRUEBA 3 VESES MANDAR MSGE \" lastima estas fuera de la UABC\""
      ],
      "metadata": {
        "id": "SEYHA7pNsPG-"
      }
    },
    {
      "cell_type": "code",
      "source": [
        "def evaluar_alumn():\n",
        "    opor = 3\n",
        "\n",
        "    while True:\n",
        "        cal = valinum(0,100,\"Dame la calificacion\")\n",
        "\n",
        "        if cal >= 60:\n",
        "            print(\"\\nFELICIDADES, lamentablemente avanzas al siguiente semestre\")\n",
        "            break\n",
        "        else:\n",
        "            if opor > 1:\n",
        "                print(\"\\nRepetir materia\")\n",
        "                opor = opor - 1\n",
        "                print(f\"Oportunidades: {opor}\")\n",
        "                continue\n",
        "            else:\n",
        "                print(\"\\n Lo lamento, estas fuera de la UABC\")\n",
        "                break"
      ],
      "metadata": {
        "id": "c_Qo4cq9sWVe"
      },
      "execution_count": 12,
      "outputs": []
    },
    {
      "cell_type": "code",
      "source": [
        "while True:\n",
        "    print(\"----- MENU -----\")\n",
        "    print(\"\\n1.- Problema numero 1: leer numeros\")\n",
        "    print(\"\\n2.- Problema numero 2, generar numeros\")\n",
        "    print(\"\\n3.- Problema numero 3: rango dado por usuario\")\n",
        "    print(\"\\n4.- Problema numero 4: Area de un triangulo\")\n",
        "    print(\"\\n5.- Problema numero 5: Evaluar calificaciones\")\n",
        "    print(\"\\n0.- Salir\")\n",
        "    op = valinum(0,5, \"Escoge una opcion\")\n",
        "\n",
        "    if op != 0:\n",
        "        if op == 1:\n",
        "            lee_num()\n",
        "            int()\n",
        "            continue\n",
        "        elif op == 2:\n",
        "            gen_num()\n",
        "            int()\n",
        "            continue\n",
        "        elif op == 3:\n",
        "            rango_user()\n",
        "            int()\n",
        "            continue\n",
        "        elif op == 4:\n",
        "            area_triangulo()\n",
        "            int()\n",
        "            continue\n",
        "        elif op == 5:\n",
        "            evaluar_alumn()\n",
        "            int()\n",
        "            continue\n",
        "    else:\n",
        "        print(\"\\nQue tenga un buen dia! :)\")\n",
        "        break"
      ],
      "metadata": {
        "colab": {
          "base_uri": "https://localhost:8080/"
        },
        "id": "VxtMbP3XuLWN",
        "outputId": "2ea5f5cc-e461-402a-c74a-6ed6dc0d3479"
      },
      "execution_count": 19,
      "outputs": [
        {
          "output_type": "stream",
          "name": "stdout",
          "text": [
            "----- MENU -----\n",
            "\n",
            "1.- Problema numero 1: leer numeros\n",
            "\n",
            "2.- Problema numero 2, generar numeros\n",
            "\n",
            "3.- Problema numero 3: rango dado por usuario\n",
            "\n",
            "4.- Problema numero 4: Area de un triangulo\n",
            "\n",
            "5.- Problema numero 5: Evaluar calificaciones\n",
            "\n",
            "0.- Salir\n",
            "Escoge una opcion (0 al 5): 4\n",
            "Dame la altura del triangulo (0 al 999): 70\n",
            "Dame la base del triangulo (0 al 999): 23\n",
            "\n",
            "El area del triangulo es de: 805.0\n",
            "----- MENU -----\n",
            "\n",
            "1.- Problema numero 1: leer numeros\n",
            "\n",
            "2.- Problema numero 2, generar numeros\n",
            "\n",
            "3.- Problema numero 3: rango dado por usuario\n",
            "\n",
            "4.- Problema numero 4: Area de un triangulo\n",
            "\n",
            "5.- Problema numero 5: Evaluar calificaciones\n",
            "\n",
            "0.- Salir\n",
            "Escoge una opcion (0 al 5): 0\n",
            "\n",
            "Que tenga un buen dia! :)\n"
          ]
        }
      ]
    }
  ]
}
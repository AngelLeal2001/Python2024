{
  "nbformat": 4,
  "nbformat_minor": 0,
  "metadata": {
    "colab": {
      "provenance": [],
      "authorship_tag": "ABX9TyPL6tzEbc44cEoTs419EvRN",
      "include_colab_link": true
    },
    "kernelspec": {
      "name": "python3",
      "display_name": "Python 3"
    },
    "language_info": {
      "name": "python"
    }
  },
  "cells": [
    {
      "cell_type": "markdown",
      "metadata": {
        "id": "view-in-github",
        "colab_type": "text"
      },
      "source": [
        "<a href=\"https://colab.research.google.com/github/AngelLeal2001/Python2024/blob/main/AILJ_PYT_ACT9.ipynb\" target=\"_parent\"><img src=\"https://colab.research.google.com/assets/colab-badge.svg\" alt=\"Open In Colab\"/></a>"
      ]
    },
    {
      "cell_type": "markdown",
      "source": [
        "#A C T I V I D A D - 9\n",
        "LENGUAJE DE PROGRAMACION PYTHON\n",
        "\n",
        "Angel Ignacio Leal Juarez\n",
        "\n",
        "Fecha: 22 de abril del 2024\n",
        "\n",
        "Github: https://github.com/AngelLeal2001/Python2024.git"
      ],
      "metadata": {
        "id": "GintYk9Aueb-"
      }
    },
    {
      "cell_type": "markdown",
      "source": [
        "###Realiza un programa en python que utilice el siguiente menu:\n",
        "MENU\n",
        "\n",
        "1.- Crear Diccionario\n",
        "\n",
        "2.- Imprimir Diccionario\n",
        "\n",
        "0.- Salir\n",
        "\n",
        "CREAR DICCIIONARIO: funcion que retorne un diccionario con los datos de basicos de un alumno, donde se pide {id,nombre (1 O 2) , appaterno,apmaterno, edad,sexo}, El diccionario se debe generar automaticmanete a partir de listas.\n",
        "\n",
        "IMPRIMIR DICCIONARIO:  Funcion que reciba como parametro el diccionario, y le de una salida mostrando la informacion en forma de registro que se genero con el diccionario"
      ],
      "metadata": {
        "id": "3gakt_TxuhGb"
      }
    },
    {
      "cell_type": "code",
      "source": [
        "import random\n",
        "from IPython.display import clear_output"
      ],
      "metadata": {
        "id": "-Tp8b4Lh0TfC"
      },
      "execution_count": null,
      "outputs": []
    },
    {
      "cell_type": "code",
      "source": [
        "def valinum(ri , rf, msge):\n",
        "    while (True):\n",
        "        try:\n",
        "            num = int(input(f\"{msge} \"))\n",
        "        except:\n",
        "            print(\"EROR\")\n",
        "            continue\n",
        "        if ( num < ri or num > rf):\n",
        "            print(\"EROR, numero fuera de rango\")\n",
        "            continue\n",
        "        break\n",
        "\n",
        "    return num"
      ],
      "metadata": {
        "id": "RUDEbMFs8czZ"
      },
      "execution_count": null,
      "outputs": []
    },
    {
      "cell_type": "code",
      "execution_count": null,
      "metadata": {
        "id": "uPQwIGuVuXcQ"
      },
      "outputs": [],
      "source": [
        "def gen_dic():\n",
        "    clear_output()\n",
        "    lista1 = [\"id\", \"nombre\", \"appat\", \"apmat\", \"edad\", \"sexo\"]\n",
        "    lista2 = []\n",
        "    lista_reg = []\n",
        "\n",
        "    nombre_h = [\"Angel\", \"Brandon\", \"Carlos\", \"David\", \"Enrique\", \"Federico\", \"Gabriel\", \"Homero\", \"Ignacio\", \"Juan\", \"Kevin\", \"Luis\", \"Manuel\", \"Nicolas\", \"Omar\", \"Pedro\", \"Quiros\", \"Roberto\", \"Samuel\",\n",
        "                \"Tomas\", \"Uriel\", \"Victor\", \"William\", \"Xavier\", \"Yandel\", \"Zane\"]\n",
        "\n",
        "    nombre_m = [\"Ayram\", \"Bered\", \"Carolina\", \"Diana\", \"Elsa\", \"Fiona\", \"Galilea\", \"Hanna\", \"Ivette\", \"Jazmin\", \"Karely\", \"Liliana\", \"Maria\", \"Nicole\", \"Olivia\", \"Patricia\", \"Quimberly\", \"Rebecca\", \"Susan\", \"Tatiana\",\n",
        "                \"Ursula\", \"Veronica\", \"Wanda\", \"Ximena\", \"Yazmin\", \"Zoe\"]\n",
        "\n",
        "    apellidos = [\"Azarcoya\",\"Azpilicueta\", \"Aguilar\", \"Benites\", \"Bravo\", \"Cervantes\", \"Cardenas\", \"Dominguez\", \"Diaz\", \"Enriquez\", \"Estrada\", \"Fernandez\", \"Gomez\", \"Gutierrez\", \"Hernandez\", \"Ibarra\", \"Ibañez\",\n",
        "                \"Jimenez\", \"Juarez\", \"Leon\", \"Leal\", \"Morales\", \"Montenegro\", \"Nuñez\", \"Nava\", \"Orantes\", \"Perez\", \"Quiroz\", \"Quintero\", \"Rodriguez\", \"Ramos\", \"Ruiz\", \"Suarez\", \"Sambueza\", \"Uribe\", \"Vazquez\", \"Vega\",\n",
        "                \"Ximenez\", \"Zarate\", \"Zuñiga\", \"Zapata\"]\n",
        "\n",
        "\n",
        "    id = random.randint(300000,399000)\n",
        "    lista2.append(id)\n",
        "\n",
        "    sexo = random.randint(1,4)\n",
        "\n",
        "    if (sexo == 1):\n",
        "        lista2.append(random.choice(nombre_h))\n",
        "    elif (sexo == 2):\n",
        "        lista2.append(f\"{random.choice(nombre_h)} {random.choice(nombre_h)}\")\n",
        "    elif (sexo == 3):\n",
        "        lista2.append(random.choice(nombre_m))\n",
        "    else:\n",
        "        lista2.append(f\"{random.choice(nombre_m)} {random.choice(nombre_m)}\")\n",
        "\n",
        "    lista2.append(random.choice(apellidos))\n",
        "    lista2.append(random.choice(apellidos))\n",
        "\n",
        "    lista2.append(random.randint(10,100))\n",
        "\n",
        "    if (sexo < 3):\n",
        "        lista2.append(\"hombre\")\n",
        "    else:\n",
        "        lista2.append(\"mujer\")\n",
        "\n",
        "\n",
        "    dic = dict(zip(lista1, lista2))\n",
        "    lista_reg.append(dic)\n",
        "\n",
        "    print(\"\\nDiccionario creado con EXITO :)\")\n",
        "    return(lista_reg)"
      ]
    },
    {
      "cell_type": "code",
      "source": [
        "def imp_dic(lista = []):\n",
        "    clear_output()\n",
        "    op = valinum(0,len(lista) -1,\"\\nEscoga el umero de diccionario (0.- regresar): \")\n",
        "\n",
        "    if (op == 0):\n",
        "        menu()\n",
        "    else:\n",
        "        print(lista[op])"
      ],
      "metadata": {
        "id": "hGw_kgMX9B-N"
      },
      "execution_count": null,
      "outputs": []
    },
    {
      "cell_type": "code",
      "source": [
        "lista = []\n",
        "relleno = 0\n",
        "lista.append(relleno)\n",
        "i=1\n",
        "\n",
        "def menu():\n",
        "    while True:\n",
        "        clear_output()\n",
        "        print(\" ----- MENU ----- \")\n",
        "        print(\"1.- Generar diccionario\")\n",
        "        print(\"2.- Imprimir diccionario\")\n",
        "        print(\"3.- Salir\")\n",
        "\n",
        "        op = valinum(1,3,\"\\nEscoga una opcion: \")\n",
        "\n",
        "        if (op == 1):\n",
        "            lista.append(gen_dic())\n",
        "            print(\"\\noprima ENTER para continuar\")\n",
        "            input()\n",
        "            continue\n",
        "\n",
        "        elif (op == 2):\n",
        "            imp_dic(lista)\n",
        "            print(\"\\noprima ENTER para continuar\")\n",
        "            input()\n",
        "            continue\n",
        "\n",
        "        else:\n",
        "            clear_output()\n",
        "            print(\"\\nHasta luego :)\")\n",
        "            break"
      ],
      "metadata": {
        "id": "Kg_T9iHP8P9S"
      },
      "execution_count": null,
      "outputs": []
    },
    {
      "cell_type": "code",
      "source": [
        "menu()"
      ],
      "metadata": {
        "colab": {
          "base_uri": "https://localhost:8080/"
        },
        "id": "NflfqfUIAs-T",
        "outputId": "b2e1827e-170a-4486-cc2c-be56c8235274"
      },
      "execution_count": null,
      "outputs": [
        {
          "output_type": "stream",
          "name": "stdout",
          "text": [
            "\n",
            "Hasta luego :)\n"
          ]
        }
      ]
    }
  ]
}
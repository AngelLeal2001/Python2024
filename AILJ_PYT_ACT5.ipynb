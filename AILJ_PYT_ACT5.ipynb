{
  "nbformat": 4,
  "nbformat_minor": 0,
  "metadata": {
    "colab": {
      "provenance": [],
      "authorship_tag": "ABX9TyNAW9hSn2LFiomC/aQww0tx",
      "include_colab_link": true
    },
    "kernelspec": {
      "name": "python3",
      "display_name": "Python 3"
    },
    "language_info": {
      "name": "python"
    }
  },
  "cells": [
    {
      "cell_type": "markdown",
      "metadata": {
        "id": "view-in-github",
        "colab_type": "text"
      },
      "source": [
        "<a href=\"https://colab.research.google.com/github/AngelLeal2001/Python2024/blob/main/AILJ_PYT_ACT5.ipynb\" target=\"_parent\"><img src=\"https://colab.research.google.com/assets/colab-badge.svg\" alt=\"Open In Colab\"/></a>"
      ]
    },
    {
      "cell_type": "markdown",
      "source": [
        "#ACTIVIDAD 5\n",
        "Angel Ignacio Leal Juarez\n",
        "\n",
        "4 de Marzo del 2024\n",
        "\n",
        "Git Hub: https://github.com/AngelLeal2001/Python2024.git"
      ],
      "metadata": {
        "id": "3VqtXGpgkRpZ"
      }
    },
    {
      "cell_type": "code",
      "execution_count": null,
      "metadata": {
        "id": "UO63q2VIj001"
      },
      "outputs": [],
      "source": [
        "import random"
      ]
    },
    {
      "cell_type": "markdown",
      "source": [
        "##1.- Programa en Python que genere 40 números aleatorios entre el 0 y 200, desplegar los números y la leyenda de cada número si es par o impar , la cantidad de los números pares e impares así como la suma de los números pares o impares."
      ],
      "metadata": {
        "id": "QU3VMEwpkb2Q"
      }
    },
    {
      "cell_type": "code",
      "source": [
        "for i in range (1, 41, 1):\n",
        "    num = random.randint(0,200)\n",
        "\n",
        "    if num % 2 == 0:\n",
        "        print(f\"{i}.- {num} <-- Par\")\n",
        "    else:\n",
        "        print(f\"{i}.- {num} <-- Impar\")"
      ],
      "metadata": {
        "colab": {
          "base_uri": "https://localhost:8080/"
        },
        "id": "FuYVz3HSki6O",
        "outputId": "81df3eb3-870c-4507-c40c-611c9dfb9d77"
      },
      "execution_count": null,
      "outputs": [
        {
          "output_type": "stream",
          "name": "stdout",
          "text": [
            "1.- 106 <-- Par\n",
            "2.- 183 <-- Impar\n",
            "3.- 46 <-- Par\n",
            "4.- 55 <-- Impar\n",
            "5.- 68 <-- Par\n",
            "6.- 67 <-- Impar\n",
            "7.- 41 <-- Impar\n",
            "8.- 50 <-- Par\n",
            "9.- 28 <-- Par\n",
            "10.- 40 <-- Par\n",
            "11.- 189 <-- Impar\n",
            "12.- 113 <-- Impar\n",
            "13.- 144 <-- Par\n",
            "14.- 54 <-- Par\n",
            "15.- 83 <-- Impar\n",
            "16.- 69 <-- Impar\n",
            "17.- 35 <-- Impar\n",
            "18.- 18 <-- Par\n",
            "19.- 162 <-- Par\n",
            "20.- 140 <-- Par\n",
            "21.- 64 <-- Par\n",
            "22.- 53 <-- Impar\n",
            "23.- 119 <-- Impar\n",
            "24.- 175 <-- Impar\n",
            "25.- 178 <-- Par\n",
            "26.- 93 <-- Impar\n",
            "27.- 117 <-- Impar\n",
            "28.- 18 <-- Par\n",
            "29.- 182 <-- Par\n",
            "30.- 163 <-- Impar\n",
            "31.- 27 <-- Impar\n",
            "32.- 117 <-- Impar\n",
            "33.- 52 <-- Par\n",
            "34.- 52 <-- Par\n",
            "35.- 62 <-- Par\n",
            "36.- 158 <-- Par\n",
            "37.- 94 <-- Par\n",
            "38.- 6 <-- Par\n",
            "39.- 96 <-- Par\n",
            "40.- 37 <-- Impar\n"
          ]
        }
      ]
    },
    {
      "cell_type": "markdown",
      "source": [
        "##2.- Programa en Python que despliegue la tabla de multiplicar de un número dado (número entre el 1 y 20)."
      ],
      "metadata": {
        "id": "6mud8CeKoIP4"
      }
    },
    {
      "cell_type": "code",
      "source": [
        "while True:\n",
        "    try:\n",
        "        num = int(input(\"Dame un numero (1 - 20): \"))\n",
        "        if num < 1 or num > 20:\n",
        "            raise (TypeError)\n",
        "\n",
        "    except ValueError:\n",
        "        print(\"-----> Error, debe ser un numero\")\n",
        "        continue\n",
        "\n",
        "    except TypeError:\n",
        "        print(\"-----> Error, debe ser numero dentro del rango\")\n",
        "        continue\n",
        "\n",
        "    else:\n",
        "        for i in range(1, 11, 1):\n",
        "            print(f\" {num} X {i} = {num * i}\")\n",
        "    break"
      ],
      "metadata": {
        "colab": {
          "base_uri": "https://localhost:8080/"
        },
        "id": "D9S2Clv6oMfR",
        "outputId": "b028125e-dd6d-495a-b32d-a4685f6834be"
      },
      "execution_count": null,
      "outputs": [
        {
          "output_type": "stream",
          "name": "stdout",
          "text": [
            "Dame un numero (1 - 20): 5\n",
            " 5 X 1 = 5\n",
            " 5 X 2 = 10\n",
            " 5 X 3 = 15\n",
            " 5 X 4 = 20\n",
            " 5 X 5 = 25\n",
            " 5 X 6 = 30\n",
            " 5 X 7 = 35\n",
            " 5 X 8 = 40\n",
            " 5 X 9 = 45\n",
            " 5 X 10 = 50\n"
          ]
        }
      ]
    },
    {
      "cell_type": "markdown",
      "source": [
        "##3.- Programa en Python que lea una calificación, las calificación deberá estar en el rango de 0 a 100, si hay un error de captura, mostrar mensaje de error. con la calificación correcta mostrar msg de aprobado reprobado."
      ],
      "metadata": {
        "id": "LEmy0BzVq3md"
      }
    },
    {
      "cell_type": "code",
      "source": [
        "while True:\n",
        "    try:\n",
        "        cal = int(input(\"Dame una calificacion (0 - 100): \"))\n",
        "        if cal < 0 or cal > 100:\n",
        "            raise (TypeError)\n",
        "\n",
        "    except TypeError:\n",
        "        print(\"-----> ERROR, debe de estar dentro del rango\")\n",
        "        continue\n",
        "\n",
        "    except ValueError:\n",
        "        print(\"-----> ERROR, debe de ser un numero\")\n",
        "        continue\n",
        "\n",
        "    else:\n",
        "        if cal >= 60:\n",
        "            print(\"\\n El alumno esta APROBADO\")\n",
        "        else:\n",
        "            print(\"\\n El alumno esta REPROBADO\")\n",
        "    break"
      ],
      "metadata": {
        "colab": {
          "base_uri": "https://localhost:8080/"
        },
        "id": "-vYNihuqq7LP",
        "outputId": "6d6f403a-425c-4002-edb5-ffd07ff52b77"
      },
      "execution_count": null,
      "outputs": [
        {
          "output_type": "stream",
          "name": "stdout",
          "text": [
            "Dame una calificacion (0 - 100): 50\n",
            "\n",
            " El alumno esta REPROBADO\n"
          ]
        }
      ]
    },
    {
      "cell_type": "markdown",
      "source": [
        "##4.- Programa en Python que lea n cantidad de números enteros dentro de un rango dado (> 0 ) , el programa deberá terminar cuando el usuario introduzca el número cero. desplegar la suma de números y la media."
      ],
      "metadata": {
        "id": "5sEaSiMVsPtm"
      }
    },
    {
      "cell_type": "code",
      "source": [
        "i = 0\n",
        "suma = 0\n",
        "\n",
        "while True:\n",
        "    try:\n",
        "        num = int(input(\"Dame un numero (Escribe 0 para salir) : \"))\n",
        "        if num < 0:\n",
        "            raise (TypeError)\n",
        "\n",
        "        if num == 0:\n",
        "            if i == 0:\n",
        "                raise (ZeroDivisionError)\n",
        "\n",
        "    except TypeError:\n",
        "        print(\"-----> ERROR, Debe de ser mayor a 0\")\n",
        "        continue\n",
        "\n",
        "    except ValueError:\n",
        "        print(\"-----> ERROR, debe de ser un numero\")\n",
        "        continue\n",
        "\n",
        "    except ZeroDivisionError:\n",
        "        print(\"-----> ERROR, debe de introducir al menos 1 numero\")\n",
        "        continue\n",
        "\n",
        "    else:\n",
        "        if num == 0:\n",
        "            print(f\"\\nLa suma de los numero es de: {suma}\")\n",
        "            print(f\"La media de los numero es de: {suma / i}\")\n",
        "            break\n",
        "        else:\n",
        "            i = i + 1\n",
        "            suma = suma + num"
      ],
      "metadata": {
        "colab": {
          "base_uri": "https://localhost:8080/"
        },
        "id": "z8qMX-7SsanQ",
        "outputId": "26c7662b-d5cd-41b5-8fbb-d92b4650d35f"
      },
      "execution_count": null,
      "outputs": [
        {
          "output_type": "stream",
          "name": "stdout",
          "text": [
            "Dame un numero (Escribe 0 para salir) : 5\n",
            "Dame un numero (Escribe 0 para salir) : 9\n",
            "Dame un numero (Escribe 0 para salir) : 27\n",
            "Dame un numero (Escribe 0 para salir) : 14\n",
            "Dame un numero (Escribe 0 para salir) : 0\n",
            "\n",
            "La suma de los numero es de: 55\n",
            "La media de los numero es de: 13.75\n"
          ]
        }
      ]
    },
    {
      "cell_type": "markdown",
      "source": [
        "##5.- Programa en Python que sirva para leer el promedio de una materia. donde el usuario tendrá un máximo de 3 oportunidades de cursar la materia, si el promedio es aprobado, felicitarlo y continuar el siguiente semestre, si promedio es reprobado deberá salir mensaje de repetir materia o es baja académica si ha reprobado 3 veces."
      ],
      "metadata": {
        "id": "iZc6HyIlv7ys"
      }
    },
    {
      "cell_type": "code",
      "source": [
        "attmp = 0\n",
        "while True:\n",
        "    try:\n",
        "        cal = int(input(\"Dame la calificacion del alumno: \"))\n",
        "        if cal < 0 or cal > 100:\n",
        "            raise (TypeError)\n",
        "\n",
        "    except TypeError:\n",
        "        print(\"-----> ERROR, debe de ser entre 0 y 100\")\n",
        "    except ValueError:\n",
        "        print(\"-----> ERROR, debe de ser un numero\")\n",
        "\n",
        "    else:\n",
        "        if attmp != 3:\n",
        "            if cal >= 60:\n",
        "                print(\"\\nFelicidades, estas aprobado!!\")\n",
        "                break\n",
        "            else:\n",
        "                print(\"Repetir materia :(\")\n",
        "                attmp = attmp + 1\n",
        "                continue\n",
        "        else:\n",
        "            print(\"\\nLo lamento, esta dado de baja\")\n",
        "            print(\"Cantidad de intentos maxima: 3\")\n",
        "            break"
      ],
      "metadata": {
        "colab": {
          "base_uri": "https://localhost:8080/"
        },
        "id": "L1-oLTBFv9HX",
        "outputId": "a396b2fc-a694-482a-efb4-b7429e9a31ce"
      },
      "execution_count": null,
      "outputs": [
        {
          "output_type": "stream",
          "name": "stdout",
          "text": [
            "Dame la calificacion del alumno: 50\n",
            "Repetir materia :(\n",
            "Dame la calificacion del alumno: 50\n",
            "Repetir materia :(\n",
            "Dame la calificacion del alumno: 60\n",
            "\n",
            "Felicidades, estas aprobado!!\n"
          ]
        }
      ]
    },
    {
      "cell_type": "markdown",
      "source": [
        "#Parte 2"
      ],
      "metadata": {
        "id": "tvo13nz3lEOD"
      }
    },
    {
      "cell_type": "markdown",
      "source": [
        "##1.- función que lea n cantidad de números hasta que el usuario lo desee, desplegar la suma de los números, media y valor de los números mayores y menores."
      ],
      "metadata": {
        "id": "KE42ES70lGIK"
      }
    },
    {
      "cell_type": "code",
      "source": [
        "def cant_numeros(i=0 , suma = 0 , n_mayor = 0 , n_menor = 9999):\n",
        "    while True:\n",
        "        try:\n",
        "            num = int(input(\"Dame un numero (Escribe 0 para salir) : \"))\n",
        "            if num < 0:\n",
        "                raise (TypeError)\n",
        "\n",
        "            if num == 0:\n",
        "                if i == 0:\n",
        "                    raise (ZeroDivisionError)\n",
        "\n",
        "        except TypeError:\n",
        "            print(\"-----> ERROR, Debe de ser mayor a 0\")\n",
        "            continue\n",
        "\n",
        "        except ValueError:\n",
        "            print(\"-----> ERROR, debe de ser un numero\")\n",
        "            continue\n",
        "\n",
        "        except ZeroDivisionError:\n",
        "            print(\"-----> ERROR, debe de introducir al menos 1 numero\")\n",
        "            continue\n",
        "\n",
        "        else:\n",
        "            if num == 0:\n",
        "                print(f\"\\nLa suma de los numero es de: {suma}\")\n",
        "                print(f\"La media de los numero es de: {suma / i}\")\n",
        "                print(f\"El numero mayor es: {n_mayor}\")\n",
        "                print(f\"El numero menor es: {n_menor}\")\n",
        "                break\n",
        "            else:\n",
        "                i = i + 1\n",
        "                suma = suma + num\n",
        "\n",
        "                if num > n_mayor:\n",
        "                    n_mayor = num\n",
        "                if num < n_menor:\n",
        "                    n_menor = num"
      ],
      "metadata": {
        "id": "fjlPMRMYlVFY"
      },
      "execution_count": null,
      "outputs": []
    },
    {
      "cell_type": "markdown",
      "source": [
        "##2.- función que genere 15 números impares entre 10 y 60 o máximo de 25 números. desplegar la media de los pares y media de impares.\n",
        "\n"
      ],
      "metadata": {
        "id": "QqRjPa60lKep"
      }
    },
    {
      "cell_type": "code",
      "source": [
        "def num_par_impar(par = 0 , impar = 0 , suma_par = 0 , suma_impar = 0 , i = 0):\n",
        "    while True:\n",
        "        num = random.randint(10,60)\n",
        "\n",
        "        if num % 2 == 0:\n",
        "            print(f\"{i+1}.- {num} <-- par\")\n",
        "            par = par + 1\n",
        "            suma_par = suma_par + num\n",
        "        else:\n",
        "            print(f\"{i+1}.- {num} <-- impar\")\n",
        "            impar = impar + 1\n",
        "            suma_impar = suma_impar + num\n",
        "\n",
        "        i = i + 1\n",
        "        if (i == 25):\n",
        "            print(\"\\n----- LIMITE MAXIMO DE NUMEROS -----\")\n",
        "            break\n",
        "        if (impar == 15):\n",
        "            print(\"\\n----- LIMITE MAXIMO DE NUMEROS IMPARES -----\")\n",
        "            break\n",
        "\n",
        "    print(f\"\\nMedia de numeros pares: {suma_par / par}\")\n",
        "    print(f\"Media de numeros impares: {suma_impar / impar}\")"
      ],
      "metadata": {
        "id": "qTXJ6V7Lnmqj"
      },
      "execution_count": null,
      "outputs": []
    },
    {
      "cell_type": "markdown",
      "source": [
        "##3.- función que sirva para leer y validar un número dentro de un rango dado por el usuario. repetir esta acción hasta que el usuario lo desee, desplegar cantidad de números y promedio de los números.."
      ],
      "metadata": {
        "id": "SN0EM3Q2lMiV"
      }
    },
    {
      "cell_type": "code",
      "source": [
        "def validarnumeros():\n",
        "\n",
        "    suma = 0\n",
        "    i = 0\n",
        "    try:\n",
        "        min = int(input(\"\\nDame el rango minimo : \"))\n",
        "        max = int(input(\"Dame el rango maximo : \"))\n",
        "\n",
        "        while True:\n",
        "            num = int(input(\"Dame un numero (0 para salir) : \"))\n",
        "\n",
        "            if num == 0:\n",
        "                break\n",
        "\n",
        "            if num > max or num < min:\n",
        "                raise (TypeError)\n",
        "\n",
        "            suma = suma + num\n",
        "            i+=1\n",
        "\n",
        "    except ValueError:\n",
        "        print(\"ERROR, Debe de ser un numero entero\\n\")\n",
        "        validarnumeros()\n",
        "\n",
        "    except TypeError:\n",
        "        print(f\"ERROR: numero entre {min} y {max}\\n\")\n",
        "        validarnumeros()\n",
        "\n",
        "    print(f\"\\nTotal de numeros : {i}\")\n",
        "    prom = suma / i\n",
        "    print(f\"El promedio de los numeros es : {prom}\")"
      ],
      "metadata": {
        "id": "yAAnfdwZr2HC"
      },
      "execution_count": null,
      "outputs": []
    },
    {
      "cell_type": "markdown",
      "source": [
        "##4.- función que reciba como parámetro los valores para el área de un triángulo y retorne su resultado"
      ],
      "metadata": {
        "id": "oz5PeqyflOGX"
      }
    },
    {
      "cell_type": "code",
      "source": [
        "def area_triangulo():\n",
        "    try:\n",
        "        b = int(input(\"\\nBase del triangulo : \"))\n",
        "        if b < 0:\n",
        "            raise (TypeError)\n",
        "\n",
        "        h = int(input(\"Base del triangulo : \"))\n",
        "        if h < 0:\n",
        "            raise (TypeError)\n",
        "\n",
        "    except ValueError:\n",
        "        print(\"ERROR, Debe de ser un numero entero\\n\")\n",
        "        area_triangulo()\n",
        "\n",
        "    except TypeError:\n",
        "        print(\"ERROR: debe de ser un numero mayor a 0\\n\")\n",
        "        area_triangulo()\n",
        "\n",
        "    else:\n",
        "        area = (b * h) / 2\n",
        "        print(f\"\\nEl area del triangulo es : {area}\")\n"
      ],
      "metadata": {
        "id": "nrFQISMe1-a1"
      },
      "execution_count": null,
      "outputs": []
    },
    {
      "cell_type": "markdown",
      "source": [
        "##5.- función que sirva para validar un número dentro de un rango dado."
      ],
      "metadata": {
        "id": "bdDGRqwElSGI"
      }
    },
    {
      "cell_type": "code",
      "source": [
        "def validar():\n",
        "    try:\n",
        "        min = int(input(\"\\nDame el rango minimo : \"))\n",
        "        max = int(input(\"Dame el rango maximo : \"))\n",
        "\n",
        "        num = int(input(f\"Dame un numero ({min} al {max}) : \"))\n",
        "        if num < min:\n",
        "            raise (TypeError)\n",
        "\n",
        "        if num > max:\n",
        "            raise (TypeError)\n",
        "\n",
        "    except ValueError:\n",
        "        print(\"ERROR, Debe de ser un numero entero\\n\")\n",
        "        validar()\n",
        "\n",
        "    except TypeError:\n",
        "        print(f\"ERROR: debe de ser entre {min} - {max}\\n\")\n",
        "        validar()"
      ],
      "metadata": {
        "id": "DM9nAyfCXXKP"
      },
      "execution_count": null,
      "outputs": []
    },
    {
      "cell_type": "code",
      "source": [
        "def main():\n",
        "\n",
        "    print(\" - M E N U - \")\n",
        "    print(\"\\n1.- Problema 1\")\n",
        "    print(\"\\n2.- Problema 2\")\n",
        "    print(\"\\n3.- Problema 3\")\n",
        "    print(\"\\n4.- Problema 4\")\n",
        "    print(\"\\n5.- Problema 5\")\n",
        "    print(\"\\n 0.- Salir\")\n",
        "\n",
        "    try:\n",
        "        op = int(input(\"\\nElige una opcion : \"))\n",
        "\n",
        "        if op < 0:\n",
        "            raise (TypeError)\n",
        "\n",
        "    except ValueError:\n",
        "        print(\"ERROR, Debe de ser un numero entero\\n\")\n",
        "\n",
        "    except TypeError:\n",
        "        print(\"ERROR: no puede ser numero negativo\\n\")\n",
        "\n",
        "    else:\n",
        "        if op == 0:\n",
        "            print(\"\\nBuen dia :)\")\n",
        "        elif op == 1:\n",
        "            cant_numeros()\n",
        "        elif op == 2:\n",
        "            num_par_impar()\n",
        "        elif op == 3:\n",
        "            validarnumeros()\n",
        "        elif op == 4:\n",
        "            area_triangulo()\n",
        "        elif op == 5:\n",
        "            validar()\n",
        "        else:\n",
        "            print(\"opcion no valida\")\n",
        "            main()\n",
        "\n",
        "main()"
      ],
      "metadata": {
        "colab": {
          "base_uri": "https://localhost:8080/"
        },
        "id": "tItVRvRtXYqC",
        "outputId": "81cfbb5f-776c-4dfe-be24-74ecdf25773e"
      },
      "execution_count": null,
      "outputs": [
        {
          "output_type": "stream",
          "name": "stdout",
          "text": [
            " - M E N U - \n",
            "\n",
            "1.- Problema 1\n",
            "\n",
            "2.- Problema 2\n",
            "\n",
            "3.- Problema 3\n",
            "\n",
            "4.- Problema 4\n",
            "\n",
            "5.- Problema 5\n",
            "\n",
            " 0.- Salir\n",
            "\n",
            "Elige una opcion : 1\n",
            "Dame un numero (Escribe 0 para salir) : 6\n",
            "Dame un numero (Escribe 0 para salir) : 6\n",
            "Dame un numero (Escribe 0 para salir) : 6\n",
            "Dame un numero (Escribe 0 para salir) : 0\n",
            "\n",
            "La suma de los numero es de: 18\n",
            "La media de los numero es de: 6.0\n",
            "El numero mayor es: 6\n",
            "El numero menor es: 6\n"
          ]
        }
      ]
    }
  ]
}
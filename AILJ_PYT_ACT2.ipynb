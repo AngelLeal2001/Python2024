{
  "nbformat": 4,
  "nbformat_minor": 0,
  "metadata": {
    "colab": {
      "provenance": [],
      "authorship_tag": "ABX9TyPaufiCOAPzK63uU6rRvCZ0",
      "include_colab_link": true
    },
    "kernelspec": {
      "name": "python3",
      "display_name": "Python 3"
    },
    "language_info": {
      "name": "python"
    }
  },
  "cells": [
    {
      "cell_type": "markdown",
      "metadata": {
        "id": "view-in-github",
        "colab_type": "text"
      },
      "source": [
        "<a href=\"https://colab.research.google.com/github/AngelLeal2001/Python2024/blob/main/AILJ_PYT_ACT2.ipynb\" target=\"_parent\"><img src=\"https://colab.research.google.com/assets/colab-badge.svg\" alt=\"Open In Colab\"/></a>"
      ]
    },
    {
      "cell_type": "markdown",
      "source": [
        "#ACTIVIDAD 2\n",
        "\n",
        "Angel Ignacio Leal Juarez\n",
        "\n",
        "12 de Febrero del 2024\n",
        "\n",
        "Git Hub: https://github.com/AngelLeal2001/Python2024.git"
      ],
      "metadata": {
        "id": "EafD0esgbZvz"
      }
    },
    {
      "cell_type": "markdown",
      "source": [
        "**NOTA: EJERCICIOS ( 1,2,3 y 4 ) PARA SER RESUELTOS USANDO EXCLUSIVAMENTE CONDICIONES SIMPLES**"
      ],
      "metadata": {
        "id": "RJQoclP9dycz"
      }
    },
    {
      "cell_type": "markdown",
      "source": [
        "##1.- Programa en Python que lea 2 números enteros, usar una condición y analizar los dos números y desplegar cual de los números es el mayor."
      ],
      "metadata": {
        "id": "CGkjJXS9bbYu"
      }
    },
    {
      "cell_type": "code",
      "execution_count": 3,
      "metadata": {
        "colab": {
          "base_uri": "https://localhost:8080/"
        },
        "id": "YcIgSqM2bNZP",
        "outputId": "6a6bdec9-cfd8-4f83-9f2c-15b8662fe8a7"
      },
      "outputs": [
        {
          "output_type": "stream",
          "name": "stdout",
          "text": [
            "Dame el primer numero: 2\n",
            "Dame el segundo numero: 5\n",
            "\n",
            "El numero 2 es mayor: 5\n"
          ]
        }
      ],
      "source": [
        "num1 = int(input(\"Dame el primer numero: \"))\n",
        "num2 = int(input(\"Dame el segundo numero: \"))\n",
        "\n",
        "if num1 > num2:\n",
        "    print(f\"\\nEl numero 1 es mayor: {num1}\")\n",
        "\n",
        "if num2 > num1:\n",
        "    print(f\"\\nEl numero 2 es mayor: {num2}\")"
      ]
    },
    {
      "cell_type": "markdown",
      "source": [
        "##2.-Algoritmo que lea 4 calificaciones de un alumno, calcular y desplegar el promedio acompañado de la leyenda \"APROBADO\" o \"REPROBADO\"\n"
      ],
      "metadata": {
        "id": "IOLCZyg7c2qR"
      }
    },
    {
      "cell_type": "code",
      "source": [
        "cal1 = int(input(\"Calificacion 1: \"))\n",
        "cal2 = int(input(\"Calificacion 2: \"))\n",
        "cal3 = int(input(\"Calificacion 3: \"))\n",
        "cal4 = int(input(\"Calificacion 4: \"))\n",
        "\n",
        "prom = (cal1 + cal2 + cal3 + cal4) / 4\n",
        "\n",
        "if prom >= 60:\n",
        "    print(\"\\nAPROBADO\")\n",
        "\n",
        "if prom < 60:\n",
        "    print(\"\\nREPROBADO\")\n",
        "\n",
        "print(f\"Promedio: {prom}\")"
      ],
      "metadata": {
        "colab": {
          "base_uri": "https://localhost:8080/"
        },
        "id": "M0sQ_Vd-c3up",
        "outputId": "09b7e272-8930-48a0-d5d0-0b5f102337ff"
      },
      "execution_count": 5,
      "outputs": [
        {
          "output_type": "stream",
          "name": "stdout",
          "text": [
            "Calificacion 1: 60\n",
            "Calificacion 2: 77\n",
            "Calificacion 3: 84\n",
            "Calificacion 4: 55\n",
            "\n",
            "APROBADO\n",
            "Promedio: 69.0\n"
          ]
        }
      ]
    },
    {
      "cell_type": "markdown",
      "source": [
        "##3.- Algoritmo que a través de opciones (1.- HOMBRE 2.- MUJER ) preguntar al usuario cual es su sexo y desplegar la leyenda “HOMBRE ”, “MUJER”"
      ],
      "metadata": {
        "id": "BjxEdaGfeNF8"
      }
    },
    {
      "cell_type": "code",
      "source": [
        "print(\"1.- Hombre\")\n",
        "print(\"2.- Mujer\")\n",
        "sexo = int(input(\"\\nSeleccione su sexo: \"))\n",
        "\n",
        "if sexo == 1:\n",
        "    print(\"\\nHOMBRE\")\n",
        "\n",
        "if sexo == 2:\n",
        "    print(\"\\nMUJER\")"
      ],
      "metadata": {
        "colab": {
          "base_uri": "https://localhost:8080/"
        },
        "id": "5_AFi-_EeQDP",
        "outputId": "ae76eee8-fcb4-48ad-a95b-0dd44792f440"
      },
      "execution_count": 6,
      "outputs": [
        {
          "output_type": "stream",
          "name": "stdout",
          "text": [
            "1.- Hombre\n",
            "2.- Mujer\n",
            "\n",
            "Seleccione su sexo: 1\n",
            "\n",
            "HOMBRE\n"
          ]
        }
      ]
    },
    {
      "cell_type": "markdown",
      "source": [
        "##4.- Programa en Python que lea un número entero, y desplegar si el número es “PAR” o “IMPAR”"
      ],
      "metadata": {
        "id": "hsNlRjvPezR_"
      }
    },
    {
      "cell_type": "code",
      "source": [
        "num = int(input(\"Dame un numero: \"))\n",
        "\n",
        "if num % 2 == 0:\n",
        "    print(\"Es par\")\n",
        "\n",
        "if num % 2 == 1:\n",
        "    print(\"Es impar\")"
      ],
      "metadata": {
        "colab": {
          "base_uri": "https://localhost:8080/"
        },
        "id": "US1wloDRe3Iv",
        "outputId": "b71ae1cf-86ef-4789-fab5-1a19a5402edf"
      },
      "execution_count": 9,
      "outputs": [
        {
          "output_type": "stream",
          "name": "stdout",
          "text": [
            "Dame un numero: 7\n",
            "Es impar\n"
          ]
        }
      ]
    },
    {
      "cell_type": "markdown",
      "source": [
        "**NOTA: EJERCICIOS (5,6,7 y 8) PARA SER RESUELTOS USANDO CONDICIÓN COMPUESTA**"
      ],
      "metadata": {
        "id": "tK4uXKuqfwmI"
      }
    },
    {
      "cell_type": "markdown",
      "source": [
        "##5.- Programa en Python que lea 2 números enteros, usar una condición y analizar los dos números y desplegar cual de los números es el mayor."
      ],
      "metadata": {
        "id": "ble95fPef7Zc"
      }
    },
    {
      "cell_type": "code",
      "source": [
        "num1 = int(input(\"Dame el primer numero: \"))\n",
        "num2 = int(input(\"Dame el segundo numero: \"))\n",
        "\n",
        "if num1 > num2:\n",
        "    print(f\"\\nEl numero 1 es mayor: {num1}\")\n",
        "else:\n",
        "    print(f\"\\nEl numero 2 es mayor: {num2}\")"
      ],
      "metadata": {
        "colab": {
          "base_uri": "https://localhost:8080/"
        },
        "id": "-5qBFXlQf-K7",
        "outputId": "d881fcd9-504c-463f-9102-1aefb2e6b8d8"
      },
      "execution_count": 11,
      "outputs": [
        {
          "output_type": "stream",
          "name": "stdout",
          "text": [
            "Dame el primer numero: 1\n",
            "Dame el segundo numero: 1243123\n",
            "\n",
            "El numero 2 es mayor: 1243123\n"
          ]
        }
      ]
    },
    {
      "cell_type": "markdown",
      "source": [
        "##6.- Programa en Python que lea 4 calificaciones de un alumno, calcular y desplegar el promedio acompañado de la leyenda APROBADO o REPROBADO"
      ],
      "metadata": {
        "id": "qBNxPMfagTSP"
      }
    },
    {
      "cell_type": "code",
      "source": [
        "cal1 = int(input(\"Calificacion 1: \"))\n",
        "cal2 = int(input(\"Calificacion 2: \"))\n",
        "cal3 = int(input(\"Calificacion 3: \"))\n",
        "cal4 = int(input(\"Calificacion 4: \"))\n",
        "\n",
        "prom = (cal1 + cal2 + cal3 + cal4) / 4\n",
        "\n",
        "if prom >= 60:\n",
        "    print(\"\\nAPROBADO\")\n",
        "else:\n",
        "    print(\"\\nREPROBADO\")\n",
        "\n",
        "print(f\"Promedio: {prom}\")"
      ],
      "metadata": {
        "colab": {
          "base_uri": "https://localhost:8080/"
        },
        "id": "imnlzRp1gXyi",
        "outputId": "a23b32d3-4a84-4019-d60d-26272ac8160e"
      },
      "execution_count": 13,
      "outputs": [
        {
          "output_type": "stream",
          "name": "stdout",
          "text": [
            "Calificacion 1: 58\n",
            "Calificacion 2: 97\n",
            "Calificacion 3: 55\n",
            "Calificacion 4: 50\n",
            "\n",
            "APROBADO\n",
            "Promedio: 65.0\n"
          ]
        }
      ]
    },
    {
      "cell_type": "markdown",
      "source": [
        "##7.- Programa en Python que a través de opciones (1.- HOMBRE 2.- MUJER ) preguntar al usuario cual es su sexo y desplegar la leyenda “HOMBRE ”, “MUJER”"
      ],
      "metadata": {
        "id": "RR301SLBgzCD"
      }
    },
    {
      "cell_type": "code",
      "source": [
        "print(\"1.- Hombre\")\n",
        "print(\"2.- Mujer\")\n",
        "sexo = int(input(\"\\nSeleccione su sexo: \"))\n",
        "\n",
        "if sexo == 1:\n",
        "    print(\"\\nHOMBRE\")\n",
        "else:\n",
        "    print(\"\\nMUJER\")"
      ],
      "metadata": {
        "colab": {
          "base_uri": "https://localhost:8080/"
        },
        "id": "R6ReShuIg1GH",
        "outputId": "703c2f01-d8a6-4252-e876-2f922958f249"
      },
      "execution_count": 14,
      "outputs": [
        {
          "output_type": "stream",
          "name": "stdout",
          "text": [
            "1.- Hombre\n",
            "2.- Mujer\n",
            "\n",
            "Seleccione su sexo: 2\n",
            "\n",
            "MUJER\n"
          ]
        }
      ]
    },
    {
      "cell_type": "markdown",
      "source": [
        "##8.- Programa en Python que lea un número entero, y desplegar si el número es “PAR” o “IMPAR”"
      ],
      "metadata": {
        "id": "_upwu4feg-ki"
      }
    },
    {
      "cell_type": "code",
      "source": [
        "num = int(input(\"Dame un numero: \"))\n",
        "\n",
        "if num % 2 == 0:\n",
        "    print(\"\\nEs un numero par\")\n",
        "else:\n",
        "    print(\"\\nEs un numero impar\")"
      ],
      "metadata": {
        "colab": {
          "base_uri": "https://localhost:8080/"
        },
        "id": "Lpxz7i4LhB8p",
        "outputId": "c9c3d297-a0c3-4d99-d9a7-85fdf4e6e856"
      },
      "execution_count": 15,
      "outputs": [
        {
          "output_type": "stream",
          "name": "stdout",
          "text": [
            "Dame un numero: 74\n",
            "\n",
            "Es un numero par\n"
          ]
        }
      ]
    }
  ]
}
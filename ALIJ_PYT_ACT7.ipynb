{
  "nbformat": 4,
  "nbformat_minor": 0,
  "metadata": {
    "colab": {
      "provenance": [],
      "authorship_tag": "ABX9TyNBV+Dhn5MW3iHaXFRsCPLX",
      "include_colab_link": true
    },
    "kernelspec": {
      "name": "python3",
      "display_name": "Python 3"
    },
    "language_info": {
      "name": "python"
    }
  },
  "cells": [
    {
      "cell_type": "markdown",
      "metadata": {
        "id": "view-in-github",
        "colab_type": "text"
      },
      "source": [
        "<a href=\"https://colab.research.google.com/github/AngelLeal2001/Python2024/blob/main/ALIJ_PYT_ACT7.ipynb\" target=\"_parent\"><img src=\"https://colab.research.google.com/assets/colab-badge.svg\" alt=\"Open In Colab\"/></a>"
      ]
    },
    {
      "cell_type": "markdown",
      "source": [
        "#ACTIVIDAD 7\n",
        "Angel Ignacio Leal Juarez\n",
        "\n",
        "1 de Abril del 2024\n",
        "\n",
        "Git Hub: https://github.com/AngelLeal2001/Python2024.git"
      ],
      "metadata": {
        "id": "kJXWmp_8tO2s"
      }
    },
    {
      "cell_type": "code",
      "source": [
        "import random\n",
        "from IPython.display import clear_output"
      ],
      "metadata": {
        "id": "UBd3J-cWxLpk"
      },
      "execution_count": null,
      "outputs": []
    },
    {
      "cell_type": "markdown",
      "source": [
        "##1.- Función que utilice una lista con los nombres de tus mascotas, o artistas favoritos, (minimo 5, maximo 10) imprimir las cadenas y la cantidad de caracteres de cada cadena.  "
      ],
      "metadata": {
        "id": "2FOMXThotVPw"
      }
    },
    {
      "cell_type": "code",
      "execution_count": null,
      "metadata": {
        "id": "-edpOSF2tJpI"
      },
      "outputs": [],
      "source": [
        "#lista = [\"Lionel Messi\", \"Nita\", \"Ginger\", \"Zoe Kravitz\", \"Sisi\", \"Pantufla\", \"Blanquillo\", \"Paul Mccartney\"]\n",
        "#i = 0\n",
        "\n",
        "#for cadena in lista:\n",
        "    #print(f\"{i} --> {cadena} - - - (tiene {len(cadena)} caracteres)\")\n",
        "    #+=1"
      ]
    },
    {
      "cell_type": "code",
      "source": [
        "def lista_nombres():\n",
        "    lista = [\"Lionel Messi\", \"Nita\", \"Ginger\", \"Zoe Kravitz\", \"Sisi\", \"Pantufla\", \"Blanquillo\", \"Paul Mccartney\"]\n",
        "\n",
        "    for i, cadena in enumerate(lista):\n",
        "        print(f\"{i} --> {cadena} - - - (tiene {len(cadena)} caracteres)\")\n",
        "\n",
        "lista_nombres()"
      ],
      "metadata": {
        "colab": {
          "base_uri": "https://localhost:8080/"
        },
        "id": "gsqGZskhwGcK",
        "outputId": "0a12b21e-a59e-48d4-c9de-38010249ced0"
      },
      "execution_count": null,
      "outputs": [
        {
          "output_type": "stream",
          "name": "stdout",
          "text": [
            "0 --> Lionel Messi - - - (tiene 12 caracteres)\n",
            "1 --> Nita - - - (tiene 4 caracteres)\n",
            "2 --> Ginger - - - (tiene 6 caracteres)\n",
            "3 --> Zoe Kravitz - - - (tiene 11 caracteres)\n",
            "4 --> Sisi - - - (tiene 4 caracteres)\n",
            "5 --> Pantufla - - - (tiene 8 caracteres)\n",
            "6 --> Blanquillo - - - (tiene 10 caracteres)\n",
            "7 --> Paul Mccartney - - - (tiene 14 caracteres)\n"
          ]
        }
      ]
    },
    {
      "cell_type": "markdown",
      "source": [
        "##2.- Programa que utilice 2 funciones,\n",
        "\n",
        "###Función que genere y regrese una lista con 10 números aleatorios entre el 30 y 50 (no repetidos).\n",
        "###Función que reciba una lista , Imprimir la lista (Indice y Valor )"
      ],
      "metadata": {
        "id": "Cz0bo01uxAyZ"
      }
    },
    {
      "cell_type": "code",
      "source": [
        "def lista_numeros_rand():\n",
        "    lista = []\n",
        "    i=0\n",
        "\n",
        "    while i < 10:\n",
        "        num = random.randint(30,50)\n",
        "\n",
        "        if num in lista:\n",
        "            continue\n",
        "        else:\n",
        "            lista.append(num)\n",
        "            i+=1\n",
        "\n",
        "    imprimir_lista(lista)\n",
        "\n",
        "def imprimir_lista(lista):\n",
        "    i=0\n",
        "    for cadena in lista:\n",
        "        print(f\"{i} ---> {cadena}\")\n",
        "        i+=1\n",
        "\n",
        "lista_numeros_rand()"
      ],
      "metadata": {
        "colab": {
          "base_uri": "https://localhost:8080/"
        },
        "id": "rjHm8D_OxJDp",
        "outputId": "aa4a5aa3-6f13-4236-f66b-8aa55a035870"
      },
      "execution_count": null,
      "outputs": [
        {
          "output_type": "stream",
          "name": "stdout",
          "text": [
            "0 ---> 40\n",
            "1 ---> 49\n",
            "2 ---> 41\n",
            "3 ---> 48\n",
            "4 ---> 38\n",
            "5 ---> 39\n",
            "6 ---> 42\n",
            "7 ---> 36\n",
            "8 ---> 45\n",
            "9 ---> 37\n"
          ]
        }
      ]
    },
    {
      "cell_type": "markdown",
      "source": [
        "##3.- Escribe una función que reciba dos listas de números del mismo tamaño y calcule la suma de los elementos correspondientes de cada lista. (regresar una nueva lista) . Luego, muestra una lista con los resultados de cada suma. Nota: si las listas no son del mismo tamaño mandar msge y utilizar el tamaño de la lista mas pequeña)"
      ],
      "metadata": {
        "id": "yoa1qH3Gzjxg"
      }
    },
    {
      "cell_type": "code",
      "source": [
        "def suma_2_listas(lista1 = [], lista2 = [], suma_lista = [], i = 0, suma = 0):\n",
        "    while True:\n",
        "        try:\n",
        "            num=int(input(\"dame un numero para agregar a lista 1 (0.- fin lista): \"))\n",
        "\n",
        "            if num < 0:\n",
        "                raise (TypeError)\n",
        "\n",
        "            if num == 0:\n",
        "                break\n",
        "            else:\n",
        "                lista1.append(num)\n",
        "\n",
        "        except TypeError:\n",
        "            print(\"ERROR, no debe ser menor a 0\")\n",
        "            continue\n",
        "\n",
        "        except ValueError:\n",
        "            print(\"ERROR, debe de ser un numero entero\")\n",
        "            continue\n",
        "\n",
        "    clear_output()\n",
        "\n",
        "    while True:\n",
        "        try:\n",
        "            num=int(input(\"dame un numero para agregar a lista 2 (0.- fin lista): \"))\n",
        "\n",
        "            if num < 0:\n",
        "                raise (TypeError)\n",
        "\n",
        "            if num == 0:\n",
        "                break\n",
        "            else:\n",
        "                lista2.append(num)\n",
        "\n",
        "        except TypeError:\n",
        "            print(\"ERROR, no debe ser menor a 0\")\n",
        "            continue\n",
        "\n",
        "        except ValueError:\n",
        "            print(\"ERROR, debe de ser un numero entero\")\n",
        "            continue\n",
        "\n",
        "    clear_output()\n",
        "\n",
        "    print(lista1)\n",
        "    print(lista2)\n",
        "\n",
        "    tam1=len(lista1)\n",
        "    tam2=len(lista2)\n",
        "\n",
        "    print(\"\\n\")\n",
        "    if len(lista1) == len(lista2):\n",
        "        tam=tam1\n",
        "        print(\"AMBAS LISTAS SON DEL MISMO TAMAÑO\")\n",
        "        print(\"tamaño limite = \",tam)\n",
        "    else:\n",
        "        print(\"AMBAS LISTAS NO TIENEN EL MISMO TAMAÑO\")\n",
        "        if tam1 < tam2:\n",
        "            tam=tam1\n",
        "            print(\"Tamaño limite: lista 1 = \", tam)\n",
        "\n",
        "        else:\n",
        "            tam=tam2\n",
        "            print(\"Tamaño limite: lista 2 = \", tam)\n",
        "\n",
        "    print(\"\\n\")\n",
        "\n",
        "    while i < tam:\n",
        "        suma = lista1[i] + lista2[i]\n",
        "        suma_lista.append(suma)\n",
        "        i+=1\n",
        "    print(suma_lista)\n",
        "\n",
        "suma_2_listas()"
      ],
      "metadata": {
        "colab": {
          "base_uri": "https://localhost:8080/"
        },
        "id": "0UP1lYHW0RDr",
        "outputId": "a6dd05b8-6c85-4e94-b8ef-75a4d861697d"
      },
      "execution_count": null,
      "outputs": [
        {
          "output_type": "stream",
          "name": "stdout",
          "text": [
            "[5, 9, 17, 14, 31, 28]\n",
            "[54, 36, 80, 1]\n",
            "\n",
            "\n",
            "AMBAS LISTAS NO TIENEN EL MISMO TAMAÑO\n",
            "Tamaño limite: lista 2 =  4\n",
            "\n",
            "\n",
            "[59, 45, 97, 15]\n"
          ]
        }
      ]
    },
    {
      "cell_type": "markdown",
      "source": [
        "##4.- Escribe una función llamada eliminar_duplicados que reciba una lista como parámetro y elimine los elementos duplicados. El resultado debe ser una nueva lista sin duplicados. Pide al usuario que ingrese una lista y luego llama a la función eliminar_duplicados para mostrar la lista sin duplicados. (Solo Numeros enteros, validar)"
      ],
      "metadata": {
        "id": "JlKgUyb80xB8"
      }
    },
    {
      "cell_type": "code",
      "source": [
        "def no_duplicados():\n",
        "    lista_sr = []\n",
        "    lista_rep = []\n",
        "    while True:\n",
        "        try:\n",
        "            num=int(input(\"dame un numero para agregar a lista 1 (0.- fin lista): \"))\n",
        "\n",
        "            if num < 0:\n",
        "                raise (TypeError)\n",
        "\n",
        "            if num == 0:\n",
        "                break\n",
        "            else:\n",
        "                lista_rep.append(num)\n",
        "\n",
        "        except TypeError:\n",
        "            print(\"ERROR, no debe ser menor a 0\")\n",
        "            continue\n",
        "\n",
        "        except ValueError:\n",
        "            print(\"ERROR, debe de ser un numero entero\")\n",
        "            continue\n",
        "\n",
        "    print(\"lista con repetidos : \", lista_rep)\n",
        "\n",
        "    elim_rep(lista_rep)\n",
        "\n",
        "    print(\"lista sin repetidos : \", lista_sr)\n",
        "\n",
        "def elim_rep(lista_rep):\n",
        "    lista_sr= sorted(lista_rep)\n",
        "\n",
        "    print(\"lista sin repetidos : \", lista_sr)\n",
        "\n",
        "    return lista_sr\n",
        "\n",
        "no_duplicados()"
      ],
      "metadata": {
        "id": "n4j1SzDM03_F",
        "colab": {
          "base_uri": "https://localhost:8080/"
        },
        "outputId": "8df19d09-b637-4cce-faf4-830c32be7a5b"
      },
      "execution_count": null,
      "outputs": [
        {
          "output_type": "stream",
          "name": "stdout",
          "text": [
            "dame un numero para agregar a lista 1 (0.- fin lista): 50\n",
            "dame un numero para agregar a lista 1 (0.- fin lista): 40\n",
            "dame un numero para agregar a lista 1 (0.- fin lista): 30\n",
            "dame un numero para agregar a lista 1 (0.- fin lista): 0\n",
            "lista con repetidos :  [50, 40, 30]\n",
            "lista sin repetidos :  [30, 40, 50]\n",
            "lista sin repetidos :  []\n"
          ]
        }
      ]
    }
  ]
}
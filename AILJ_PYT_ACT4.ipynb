{
  "nbformat": 4,
  "nbformat_minor": 0,
  "metadata": {
    "colab": {
      "provenance": [],
      "authorship_tag": "ABX9TyNEuCv15uNRkYJkslWK7pni",
      "include_colab_link": true
    },
    "kernelspec": {
      "name": "python3",
      "display_name": "Python 3"
    },
    "language_info": {
      "name": "python"
    }
  },
  "cells": [
    {
      "cell_type": "markdown",
      "metadata": {
        "id": "view-in-github",
        "colab_type": "text"
      },
      "source": [
        "<a href=\"https://colab.research.google.com/github/AngelLeal2001/Python2024/blob/main/AILJ_PYT_ACT4.ipynb\" target=\"_parent\"><img src=\"https://colab.research.google.com/assets/colab-badge.svg\" alt=\"Open In Colab\"/></a>"
      ]
    },
    {
      "cell_type": "markdown",
      "source": [
        "#ACTIVIDAD 4\n",
        "Angel Ignacio Leal Juarez\n",
        "\n",
        "26 de Febrero del 2024\n",
        "\n",
        "Git Hub: https://github.com/AngelLeal2001/Python2024.git"
      ],
      "metadata": {
        "id": "MwiOxIqJgJkW"
      }
    },
    {
      "cell_type": "code",
      "source": [
        "import random"
      ],
      "metadata": {
        "id": "7xNVGE6lrqgm"
      },
      "execution_count": null,
      "outputs": []
    },
    {
      "cell_type": "markdown",
      "source": [
        "## 1.-leer 3 calificaciones calcule el promedio del alumno y desplegar mensaje de acuerdo a su promedio"
      ],
      "metadata": {
        "id": "9V3LuzQXgNt-"
      }
    },
    {
      "cell_type": "code",
      "execution_count": null,
      "metadata": {
        "colab": {
          "base_uri": "https://localhost:8080/"
        },
        "id": "_So2S1k-gF3u",
        "outputId": "8ae89bf6-99b6-4952-f0ad-7eb08a31309d"
      },
      "outputs": [
        {
          "output_type": "stream",
          "name": "stdout",
          "text": [
            "Calificacion 1: a\n",
            "ERROR, debe de ser un numero mayor a 0\n"
          ]
        }
      ],
      "source": [
        "try:\n",
        "    cal1 = int(input(\"Calificacion 1: \"))\n",
        "    if (cal1 < 0):\n",
        "        raise (ValueError)\n",
        "\n",
        "    cal2 = int(input(\"Calificacion 2: \"))\n",
        "    if (cal2 < 0):\n",
        "        raise (ValueError)\n",
        "\n",
        "    cal3 = int(input(\"Calificacion 3: \"))\n",
        "    if (cal3 < 0):\n",
        "        raise (ValueError)\n",
        "\n",
        "except ValueError:\n",
        "    print(\"ERROR, debe de ser un numero mayor a 0\")\n",
        "\n",
        "else:\n",
        "    prom = (cal1 + cal2 + cal3) / 3\n",
        "\n",
        "\n",
        "    print(f\"Promedio: {prom}\")\n",
        "\n",
        "    if (prom >= 80):\n",
        "        if (prom >= 95):\n",
        "            if (prom >= 100):\n",
        "                print(\"EROR\")\n",
        "            else:\n",
        "                print(\"EXCELENTE\")\n",
        "        else:\n",
        "            if (prom >= 90):\n",
        "                print(\"MUY 234BIEN\")\n",
        "            else:\n",
        "                print(\"BIEN\")\n",
        "\n",
        "    else:\n",
        "        if (prom >= 60):\n",
        "            if (prom >= 70):\n",
        "                print(\"REGULAR\")\n",
        "            else:\n",
        "                print(\"SUFICIENTE\")\n",
        "        else:\n",
        "            if (prom >= 30):\n",
        "                print(\"EXTRAORDINARIO\")\n",
        "            else:\n",
        "                print(\"REPETIR\")"
      ]
    },
    {
      "cell_type": "markdown",
      "source": [
        "##2.- calcular el salario semanal de un trabajador donde se obtiene como dato de entrada las horas semanales trabajadas, el salario por hora.\n",
        "\n",
        "El programa deberá calcular el salario normal, salario extra y salario total"
      ],
      "metadata": {
        "id": "vqo88c2bkFM1"
      }
    },
    {
      "cell_type": "code",
      "source": [
        "try:\n",
        "    horas = int(input(\"Horas trabajadas semanalmente: \"))\n",
        "    if horas < 0:\n",
        "        raise (TypeError)\n",
        "\n",
        "    salhora = int(input(\"Salario por hora: \"))\n",
        "    if salhora < 0:\n",
        "        raise (TypeError)\n",
        "\n",
        "    saln = salhora * horas\n",
        "\n",
        "except ValueError:\n",
        "    print(\"\\nError: tiene que ser un numero\")\n",
        "except TypeError:\n",
        "    print(\"\\nError: tiene que ser entero\")\n",
        "except:\n",
        "    print(\"Error\")\n",
        "\n",
        "else:\n",
        "    if horas > 49:\n",
        "        salex = ((salhora * 9) * 2) + ((salhora * (horas - 49)) * 3)\n",
        "        salt = saln + salex\n",
        "        print(f\"\\nsalario por hora: {salhora}\")\n",
        "        print(f\"horas trabajadas: {horas}\")\n",
        "        print(f\"Salario normal: {saln}\")\n",
        "        print(f\"salario extra: {salex}\")\n",
        "        print(f\"salario total: {salt}\")\n",
        "\n",
        "    elif horas > 40:\n",
        "        salex = (salhora * (horas - 40) * 2)\n",
        "        salt = saln + salex\n",
        "        print(f\"\\nsalario por hora: {salhora}\")\n",
        "        print(f\"horas trabajadas: {horas}\")\n",
        "        print(f\"Salario normal: {saln}\")\n",
        "        print(f\"salario extra: {salex}\")\n",
        "        print(f\"salario total: {salt}\")\n",
        "\n",
        "    else:\n",
        "        salt = saln\n",
        "        print(f\"\\nsalario por hora: {salhora}\")\n",
        "        print(f\"horas trabajadas: {horas}\")\n",
        "        print(f\"Salario normal: {saln}\")\n",
        "        print(\"Salario extra: 0\")\n",
        "        print(f\"salario total: {salt}\")"
      ],
      "metadata": {
        "colab": {
          "base_uri": "https://localhost:8080/"
        },
        "id": "AOikp-WEpETf",
        "outputId": "75a88d4f-f295-4f22-ca93-49ca58806d7b"
      },
      "execution_count": null,
      "outputs": [
        {
          "output_type": "stream",
          "name": "stdout",
          "text": [
            "Horas trabajadas semanalmente: 41\n",
            "Salario por hora: 50\n",
            "\n",
            "salario por hora: 50\n",
            "horas trabajadas: 41\n",
            "Salario normal: 2050\n",
            "salario extra: 100\n",
            "salario total: 2150\n"
          ]
        }
      ]
    },
    {
      "cell_type": "markdown",
      "source": [
        "##3.- calcular el Total a pagar por consumo de agua, donde el dato de entrada son los M3 de agua consumidos, Tomar en cuenta que se cobra escalonada"
      ],
      "metadata": {
        "id": "L1qLQApppQBj"
      }
    },
    {
      "cell_type": "code",
      "source": [
        "try:\n",
        "    m3 = int(input(\"Metros cubicos de agua consumidos: \"))\n",
        "\n",
        "    if m3 < 0:\n",
        "        raise (TypeError)\n",
        "\n",
        "except ValueError:\n",
        "    print(\"\\nError: tiene que ser un numero\")\n",
        "\n",
        "except TypeError:\n",
        "    print(\"\\nError: tiene que ser entero\")\n",
        "\n",
        "else:\n",
        "\n",
        "    if m3 <= 4:\n",
        "        iva = 50 * .16\n",
        "        total = 50 + iva\n",
        "        print(\"\\nSubtotal: $50\")\n",
        "        print(f\"\\nIVA: ${iva}\")\n",
        "        print(f\"\\nTOTAL: ${total}\")\n",
        "    elif m3 <= 15:\n",
        "        subtotal = 50 + ((m3 - 4) * 8)\n",
        "        iva = subtotal * .16\n",
        "        total = subtotal + iva\n",
        "        print(f\"\\nSubtotal: ${subtotal}\")\n",
        "        print(f\"\\nIVA: ${iva}\")\n",
        "        print(f\"\\nTOTAL: ${total}\")\n",
        "    elif m3 <= 50:\n",
        "        subtotal = 50 + 88 + ((m3 - 15) * 10)\n",
        "        iva = subtotal * .16\n",
        "        total = subtotal + iva\n",
        "        print(f\"\\nSubtotal: ${subtotal}\")\n",
        "        print(f\"\\nIVA: ${iva}\")\n",
        "        print(f\"\\nTOTAL: ${total}\")\n",
        "    elif m3 > 50:\n",
        "        subtotal = 50 + 88 + 250 + ((m3 - 50) * 11)\n",
        "        iva = subtotal * .16\n",
        "        total = subtotal + iva\n",
        "        print(f\"\\nSubtotal: ${subtotal}\")\n",
        "        print(f\"\\nIVA: ${iva}\")\n",
        "        print(f\"\\nTOTAL: ${total}\")"
      ],
      "metadata": {
        "colab": {
          "base_uri": "https://localhost:8080/"
        },
        "id": "WdzvOasHpWuv",
        "outputId": "0ad10c4c-ed92-48f9-9593-40a93e9c7c49"
      },
      "execution_count": null,
      "outputs": [
        {
          "output_type": "stream",
          "name": "stdout",
          "text": [
            "Metros cubicos de agua consumidos: 17\n",
            "\n",
            "Subtotal: $158\n",
            "\n",
            "IVA: $25.28\n",
            "\n",
            "TOTAL: $183.28\n"
          ]
        }
      ]
    },
    {
      "cell_type": "markdown",
      "source": [
        "##4.- calcular el promedio final de la materia donde la calificación menor de los exámenes se anula y el promedio se calcula en base a 4 exámenes. Desplegar el promedio final. y cual es la mas baja que se elimino"
      ],
      "metadata": {
        "id": "hDBUcWCyplqs"
      }
    },
    {
      "cell_type": "code",
      "source": [
        "try:\n",
        "    cal1 = int(input(\"Calificacion del examen 1: \"))\n",
        "    if cal1 < 0:\n",
        "        raise (TypeError)\n",
        "\n",
        "    cal2 = int(input(\"Calificacion del examen 2: \"))\n",
        "    if cal2 < 0:\n",
        "        raise (TypeError)\n",
        "\n",
        "    cal3 = int(input(\"Calificacion del examen 3: \"))\n",
        "    if cal3 < 0:\n",
        "        raise (TypeError)\n",
        "\n",
        "    cal4 = int(input(\"Calificacion del examen 4: \"))\n",
        "    if cal4 < 0:\n",
        "        raise (TypeError)\n",
        "\n",
        "    cal5 = int(input(\"Calificacion del examen 5: \"))\n",
        "    if cal5 < 0:\n",
        "        raise (TypeError)\n",
        "\n",
        "except TypeError:\n",
        "    print(\"\\nERROR: El numero tiene que ser entero\")\n",
        "\n",
        "except ValueError:\n",
        "    print(\"\\nERROR: Tiene que ser un numero\")\n",
        "\n",
        "else:\n",
        "    menor = 100\n",
        "\n",
        "    if cal1 < menor:\n",
        "        menor = cal1\n",
        "\n",
        "    if cal2 < menor:\n",
        "        menor = cal2\n",
        "\n",
        "    if cal3 < menor:\n",
        "        menor = cal3\n",
        "\n",
        "    if cal4 < menor:\n",
        "        menor = cal4\n",
        "\n",
        "    if cal5 < menor:\n",
        "        menor = cal5\n",
        "\n",
        "    print(\"\\nla calificacion menor que se elimino es :\", menor)\n",
        "    prom = (cal1 + cal2 + cal3 + cal4 + cal5 - menor) / 4\n",
        "    print(\"\\nEl promedio de los examenes es de: \", prom)"
      ],
      "metadata": {
        "colab": {
          "base_uri": "https://localhost:8080/"
        },
        "id": "5ocjMGVNpnm4",
        "outputId": "bf09c99b-100f-477b-bbcc-a50dc68f22cc"
      },
      "execution_count": null,
      "outputs": [
        {
          "output_type": "stream",
          "name": "stdout",
          "text": [
            "Calificacion del examen 1: 71\n",
            "Calificacion del examen 2: 68\n",
            "Calificacion del examen 3: 84\n",
            "Calificacion del examen 4: 77\n",
            "Calificacion del examen 5: 80\n",
            "\n",
            "la calificacion menor que se elimino es : 68\n",
            "\n",
            "El promedio de los examenes es de:  78.0\n"
          ]
        }
      ]
    },
    {
      "cell_type": "markdown",
      "source": [
        "##5.- Programa que sirva para jugar CHINCHANPU (\"Piedra, papel o tijeras) para 1 jugador y la computadora"
      ],
      "metadata": {
        "id": "0sJkRE5qqEoq"
      }
    },
    {
      "cell_type": "code",
      "source": [
        "print(\"1.- Piedra\")\n",
        "print(\"2.- Papel\")\n",
        "print(\"3.- Tijeras\")\n",
        "try:\n",
        "    opcion = int(input(\"Eliga una opcion: \"))\n",
        "    if opcion < 0 or opcion > 3:\n",
        "        raise(TypeError)\n",
        "\n",
        "except TypeError:\n",
        "    print(\"\\nERROR: tiene que ser un numero entre el 1 y 3\")\n",
        "\n",
        "except ValueError:\n",
        "    print(\"\\nERROR: Tiene que ser un numero\")\n",
        "\n",
        "else:\n",
        "\n",
        "    jug2 = random.randint(1, 3)\n",
        "\n",
        "    if opcion == 1:\n",
        "        if jug2 == 1:\n",
        "            print(\"\\nEMPATE\")\n",
        "            print(\"Los 2 eligieron piedra\")\n",
        "        else:\n",
        "            if jug2 == 2:\n",
        "                print(\"\\nPERDISTE\")\n",
        "                print(\"Papel gana a Piedra\")\n",
        "            else:\n",
        "                if jug2 == 3:\n",
        "                    print(\"\\nGANASTE\")\n",
        "                    print(\"Piedra gana a Tijeras\")\n",
        "\n",
        "    if opcion == 2:\n",
        "        if jug2 == 1:\n",
        "            print(\"\\nGANASTE\")\n",
        "            print(\"Papel gana a piedra\")\n",
        "        else:\n",
        "            if jug2 == 2:\n",
        "                print(\"\\nEMPATE\")\n",
        "                print(\"Los 2 eligieron papel\")\n",
        "            else:\n",
        "                if jug2 == 3:\n",
        "                    print(\"\\nPERDISTE\")\n",
        "                    print(\"Tijeras gana a papel\")\n",
        "\n",
        "    if opcion == 3:\n",
        "        if jug2 == 1:\n",
        "            print(\"\\nPERDISTE\")\n",
        "            print(\"Piedra gana a tijeras\")\n",
        "        else:\n",
        "            if jug2 == 2:\n",
        "                print(\"\\nGANASTE\")\n",
        "                print(\"Tijeras gana a papel\")\n",
        "            else:\n",
        "                if jug2 == 3:\n",
        "                    print(\"\\nEMPATE\")\n",
        "                    print(\"Los 2 eligieron tijeras\")"
      ],
      "metadata": {
        "colab": {
          "base_uri": "https://localhost:8080/"
        },
        "id": "_Orwi8JdqVgr",
        "outputId": "4cbc424c-2c4a-4432-ba98-a07f74aff4e6"
      },
      "execution_count": null,
      "outputs": [
        {
          "output_type": "stream",
          "name": "stdout",
          "text": [
            "1.- Piedra\n",
            "2.- Papel\n",
            "3.- Tijeras\n",
            "Eliga una opcion: 2\n",
            "\n",
            "GANASTE\n",
            "Papel gana a piedra\n"
          ]
        }
      ]
    },
    {
      "cell_type": "markdown",
      "source": [
        "##6.- leer 4 números enteros desplegar cuales el menor, cual es mayor"
      ],
      "metadata": {
        "id": "PRN7ncK8qW3p"
      }
    },
    {
      "cell_type": "code",
      "source": [
        "try:\n",
        "\n",
        "    num1 = int(input(\"Dame el primer numero: \"))\n",
        "    if num1 < 0:\n",
        "        raise(TypeError)\n",
        "\n",
        "    num2 = int(input(\"Dame el segundo numero: \"))\n",
        "    if num2 < 0:\n",
        "        raise(TypeError)\n",
        "\n",
        "    num3 = int(input(\"Dame el tercero numero: \"))\n",
        "    if num3 < 0:\n",
        "        raise(TypeError)\n",
        "\n",
        "    num4 = int(input(\"Dame el cuarto numero: \"))\n",
        "    if num4 < 0:\n",
        "        raise(TypeError)\n",
        "\n",
        "except TypeError:\n",
        "    print(\"\\nERROR: tiene que ser real\")\n",
        "\n",
        "except ValueError:\n",
        "    print(\"\\nERROR: Tiene que ser un numero entero\")\n",
        "\n",
        "else:\n",
        "\n",
        "    def nmayor():\n",
        "\n",
        "        mayor = num1\n",
        "\n",
        "        if num2 > mayor:\n",
        "            mayor = num2\n",
        "\n",
        "        if num3 > mayor:\n",
        "            mayor = num3\n",
        "\n",
        "        if num4 > mayor:\n",
        "            mayor = num4\n",
        "\n",
        "        print(\"\\nNumero mayor : \",mayor)\n",
        "\n",
        "    def nmenor():\n",
        "\n",
        "        menor = num1\n",
        "\n",
        "        if num2 < menor:\n",
        "            menor = num2\n",
        "\n",
        "        if num3 < menor:\n",
        "            menor = num3\n",
        "\n",
        "        if num4 < menor:\n",
        "            menor = num4\n",
        "\n",
        "        print(\"\\nNumero menor : \",menor)\n",
        "\n",
        "    nmayor()\n",
        "\n",
        "    nmenor()"
      ],
      "metadata": {
        "colab": {
          "base_uri": "https://localhost:8080/"
        },
        "id": "NKw9LwIcqmJP",
        "outputId": "8c1a9d6b-b72a-4338-89af-7668ed8ea668"
      },
      "execution_count": null,
      "outputs": [
        {
          "output_type": "stream",
          "name": "stdout",
          "text": [
            "Dame el primer numero: 2\n",
            "Dame el segundo numero: 4\n",
            "Dame el tercero numero: 6\n",
            "Dame el cuarto numero: 8\n",
            "\n",
            "Numero mayor :  8\n",
            "\n",
            "Numero menor :  2\n"
          ]
        }
      ]
    },
    {
      "cell_type": "markdown",
      "source": [
        "##7.- calcular el área de un triangulo, los datos de entrada deben ser forzosamente de tipo real"
      ],
      "metadata": {
        "id": "8ksHhvKAqvON"
      }
    },
    {
      "cell_type": "code",
      "source": [
        "try:\n",
        "    base = float(input(\"Dame el valor de la base (numero real) : \"))\n",
        "    if base<=0:\n",
        "        raise (ValueError)\n",
        "\n",
        "    altura = float(input(\"Dame el valor de la altura (numero real) : \"))\n",
        "    if base<=0:\n",
        "        raise (ValueError)\n",
        "\n",
        "except ValueError:\n",
        "    print(\"\\nERROR: tiene que ser un numero real\")\n",
        "\n",
        "else:\n",
        "    area = (base * altura) / 2\n",
        "\n",
        "    print(\"\\nEl area del triangulo es de : \", area)"
      ],
      "metadata": {
        "colab": {
          "base_uri": "https://localhost:8080/"
        },
        "id": "t-Gt-Jnrqx5J",
        "outputId": "c73532b0-8d5b-4bfa-d07a-03b7afbb9713"
      },
      "execution_count": null,
      "outputs": [
        {
          "output_type": "stream",
          "name": "stdout",
          "text": [
            "Dame el valor de la base (numero real) : 7.1\n",
            "Dame el valor de la altura (numero real) : 2.78\n",
            "\n",
            "El area del triangulo es de :  9.868999999999998\n"
          ]
        }
      ]
    },
    {
      "cell_type": "markdown",
      "source": [
        "##8.- calcular el área de un circulo"
      ],
      "metadata": {
        "id": "As2N6FIIq1ON"
      }
    },
    {
      "cell_type": "code",
      "source": [
        "try:\n",
        "    radio = float(input(\"Dame el radio del circulo : \"))\n",
        "    if radio < 0:\n",
        "        raise (ValueError)\n",
        "\n",
        "except:\n",
        "    print(\"\\nERROR: tiene que ser numero positivo\")\n",
        "\n",
        "else:\n",
        "    area = 3.1416 * (radio * radio)\n",
        "\n",
        "    print(\"\\nEl area del circulo es : \", area)"
      ],
      "metadata": {
        "colab": {
          "base_uri": "https://localhost:8080/"
        },
        "id": "ahnf706yq4kQ",
        "outputId": "4bf964ef-4cc9-44fb-c549-ca9827fa5fb9"
      },
      "execution_count": null,
      "outputs": [
        {
          "output_type": "stream",
          "name": "stdout",
          "text": [
            "Dame el radio del circulo : 2\n",
            "\n",
            "El area del circulo es :  12.5664\n"
          ]
        }
      ]
    }
  ]
}
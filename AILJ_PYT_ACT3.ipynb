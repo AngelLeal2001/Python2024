{
  "nbformat": 4,
  "nbformat_minor": 0,
  "metadata": {
    "colab": {
      "provenance": [],
      "authorship_tag": "ABX9TyOvZ8yraQUMkk8QhZzVAmrN",
      "include_colab_link": true
    },
    "kernelspec": {
      "name": "python3",
      "display_name": "Python 3"
    },
    "language_info": {
      "name": "python"
    }
  },
  "cells": [
    {
      "cell_type": "markdown",
      "metadata": {
        "id": "view-in-github",
        "colab_type": "text"
      },
      "source": [
        "<a href=\"https://colab.research.google.com/github/AngelLeal2001/Python2024/blob/main/AILJ_PYT_ACT3.ipynb\" target=\"_parent\"><img src=\"https://colab.research.google.com/assets/colab-badge.svg\" alt=\"Open In Colab\"/></a>"
      ]
    },
    {
      "cell_type": "markdown",
      "source": [
        "#ACTIVIDAD 3\n",
        "Angel Ignacio Leal Juarez\n",
        "\n",
        "16 de Febrero del 2024\n",
        "\n",
        "Git Hub: https://github.com/AngelLeal2001/Python2024.git"
      ],
      "metadata": {
        "id": "fRh2oAZgru0D"
      }
    },
    {
      "cell_type": "code",
      "source": [
        "import random"
      ],
      "metadata": {
        "id": "er-M1G3nDEUU"
      },
      "execution_count": null,
      "outputs": []
    },
    {
      "cell_type": "markdown",
      "source": [
        "##1.- Leer 3 calificaciones y desplegar promedio y mensaje dependiendo del promedio (optimizado)"
      ],
      "metadata": {
        "id": "yO-Vq0lSr7_Q"
      }
    },
    {
      "cell_type": "code",
      "execution_count": null,
      "metadata": {
        "colab": {
          "base_uri": "https://localhost:8080/"
        },
        "id": "bxRgtABjroBj",
        "outputId": "a821de51-0337-4790-e261-08c78e88a032"
      },
      "outputs": [
        {
          "output_type": "stream",
          "name": "stdout",
          "text": [
            "Calificacion 1: 1232314\n",
            "Calificacion 2: 523452345\n",
            "Calificacion 3: 234532452345\n",
            "Promedio: 78352379001.33333\n",
            "EROR\n"
          ]
        }
      ],
      "source": [
        "cal1 = int(input(\"Calificacion 1: \"))\n",
        "cal2 = int(input(\"Calificacion 2: \"))\n",
        "cal3 = int(input(\"Calificacion 3: \"))\n",
        "\n",
        "prom = (cal1 + cal2 + cal3) / 3\n",
        "\n",
        "print(f\"Promedio: {prom}\")\n",
        "\n",
        "if (prom >= 80):\n",
        "    if (prom >= 95):\n",
        "        if (prom >= 100):\n",
        "            print(\"EROR\")\n",
        "        else:\n",
        "            print(\"EXCELENTE\")\n",
        "    else:\n",
        "        if (prom >= 90):\n",
        "            print(\"MUY 234BIEN\")\n",
        "        else:\n",
        "            print(\"BIEN\")\n",
        "\n",
        "else:\n",
        "    if (prom >= 60):\n",
        "        if (prom >= 70):\n",
        "            print(\"REGULAR\")\n",
        "        else:\n",
        "            print(\"SUFICIENTE\")\n",
        "    else:\n",
        "        if (prom >= 30):\n",
        "            print(\"EXTRAORDINARIO\")\n",
        "        else:\n",
        "            print(\"REPETIR\")"
      ]
    },
    {
      "cell_type": "markdown",
      "source": [
        "##2.- Algoritmo que sirva para calcular el salario semanal de un trabajador donde se obtiene como dato de entrada las horas semanales trabajadas, salario por hora. Calcular el salario normal, salario extra y salario total."
      ],
      "metadata": {
        "id": "LwoXARvHsYws"
      }
    },
    {
      "cell_type": "code",
      "source": [
        "horas = int(input(\"Horas trabajadas (semanal): \"))\n",
        "sal_hora = int(input(\"Salario por hora: \"))\n",
        "\n",
        "if (horas <= 40):\n",
        "    sal_normal = sal_hora * horas\n",
        "    print(f\"salario normal= ${sal_normal}\")\n",
        "    print(\"Salario Extra = $0\")\n",
        "    print(f\"Salario Total= ${sal_normal}\")\n",
        "\n",
        "elif (horas <= 49):\n",
        "    sal_normal = sal_hora * horas\n",
        "    sal_extra = (horas - 40) * sal_hora\n",
        "    sal_total = sal_extra + sal_normal\n",
        "    print(f\"salario normal= ${sal_normal}\")\n",
        "    print(f\"salario extra = ${sal_extra}\")\n",
        "    print(f\"salario total = ${sal_total}\")\n",
        "\n",
        "else:\n",
        "    sal_normal = sal_hora * horas\n",
        "    sal_extra = (9 * sal_hora) + ((horas - 49) * (sal_hora * 2))\n",
        "    sal_total = sal_extra + sal_normal\n",
        "    print(f\"salario normal= ${sal_normal}\")\n",
        "    print(f\"salario extra = ${sal_extra}\")\n",
        "    print(f\"salario total = ${sal_total}\")"
      ],
      "metadata": {
        "colab": {
          "base_uri": "https://localhost:8080/"
        },
        "id": "nH1M8WwPfLEx",
        "outputId": "cf8c5a7b-b832-43cb-accb-f1992c6f71a2"
      },
      "execution_count": null,
      "outputs": [
        {
          "output_type": "stream",
          "name": "stdout",
          "text": [
            "Horas trabajadas (semanal): 52\n",
            "Salario por hora: 50\n",
            "salario normal= $2600\n",
            "salario extra = $750\n",
            "salario total = $3350\n"
          ]
        }
      ]
    },
    {
      "cell_type": "markdown",
      "source": [
        "##3.- Desplegar el total de una llamada telefonica donde se pide como entrada los minutos, tipo de llamada (local, naciona o internacional)"
      ],
      "metadata": {
        "id": "BFjj-OGzkSok"
      }
    },
    {
      "cell_type": "code",
      "source": [
        "print(\"1.- Local\")\n",
        "print(\"2.- Nacional\")\n",
        "print(\"3.- Internacional\")\n",
        "tipo = int(input(\"Elige tu tipo de llamada: \"))\n",
        "\n",
        "min = int(input(\"Minutos de llamada: \"))\n",
        "\n",
        "if (tipo == 1):\n",
        "    iva = 3 * .16\n",
        "    total = 3 + iva\n",
        "    print(\"\\n--- LLAMADA LOCAL ---\\n\")\n",
        "    print(\"Subtotal: $3.00\")\n",
        "    print(f\"IVA: ${iva}\")\n",
        "    print(f\"Total: {total}\")\n",
        "\n",
        "elif (tipo == 2):\n",
        "    if (min <= 3):\n",
        "        iva = 7 * .16\n",
        "        total = 7 + iva\n",
        "        print(\"\\n--- LLAMADA NACIONAL ---\\n\")\n",
        "        print(\"Subtotal: $7.00\")\n",
        "        print(f\"IVA: ${iva}\")\n",
        "        print(f\"Total: {total}\")\n",
        "    else:\n",
        "        subtotal = 7 + ((min - 3) * 2)\n",
        "        iva = subtotal * .16\n",
        "        total = subtotal + iva\n",
        "        print(\"\\n--- LLAMADA NACIONAL ---\\n\")\n",
        "        print(f\"Subtotal: ${subtotal}\")\n",
        "        print(f\"IVA: ${iva}\")\n",
        "        print(f\"Total: {total}\")\n",
        "\n",
        "elif (tipo == 3):\n",
        "    if (min <= 2):\n",
        "        iva = 9 * .16\n",
        "        total = 9 + iva\n",
        "        print(\"\\n--- LLAMADA INTERNACIONAL ---\\n\")\n",
        "        print(\"Subtotal: $9.00\")\n",
        "        print(f\"IVA: ${iva}\")\n",
        "        print(f\"Total: {total}\")\n",
        "    else:\n",
        "        subtotal = 9 + ((min - 2) * 4)\n",
        "        iva = subtotal * .16\n",
        "        total = subtotal + iva\n",
        "        print(\"\\n--- LLAMADA INTERNACIONAL ---\\n\")\n",
        "        print(f\"Subtotal: ${subtotal}\")\n",
        "        print(f\"IVA: ${iva}\")\n",
        "        print(f\"Total: {total}\")\n",
        "\n",
        "else:\n",
        "    print(\"EROR\")"
      ],
      "metadata": {
        "colab": {
          "base_uri": "https://localhost:8080/"
        },
        "id": "tZCbbbwakkw_",
        "outputId": "102e1086-49a0-4b86-e638-7c76c32905a4"
      },
      "execution_count": null,
      "outputs": [
        {
          "output_type": "stream",
          "name": "stdout",
          "text": [
            "1.- Local\n",
            "2.- Nacional\n",
            "3.- Internacional\n",
            "Elige tu tipo de llamada: 3\n",
            "Minutos de llamada: 5\n",
            "\n",
            "--- LLAMADA INTERNACIONAL ---\n",
            "\n",
            "Subtotal: $21\n",
            "IVA: $3.36\n",
            "Total: 24.36\n"
          ]
        }
      ]
    },
    {
      "cell_type": "markdown",
      "source": [
        "##4.-calcular el Total a pagar por consumo de agua, donde el dato de entrada son los M3 de agua consumidos"
      ],
      "metadata": {
        "id": "zxiBtmv1qS00"
      }
    },
    {
      "cell_type": "code",
      "source": [
        "m_agua = int(input(\"Metros cuadrados de agua consumidos: \"))\n",
        "\n",
        "if (m_agua <= 4):\n",
        "    iva = 50 * .16\n",
        "    total = 50 + iva\n",
        "    print(\"Subtotal = $50\")\n",
        "    print(f\"IVA = ${iva}\")\n",
        "    print(f\"Total: {total}\")\n",
        "\n",
        "elif (m_agua <= 15):\n",
        "    subtotal = ((m_agua - 4) * 8) + 50\n",
        "    iva = subtotal * .16\n",
        "    total = subtotal + iva\n",
        "    print(f\"Subtotal = ${subtotal}\")\n",
        "    print(f\"IVA = ${iva}\")\n",
        "    print(f\"Total: {total}\")\n",
        "\n",
        "elif (m_agua <= 50):\n",
        "    subtotal = ((m_agua - 15) * 10) + 88 + 50\n",
        "    iva = subtotal * .16\n",
        "    total = subtotal + iva\n",
        "    print(f\"Subtotal = ${subtotal}\")\n",
        "    print(f\"IVA = ${iva}\")\n",
        "    print(f\"Total: {total}\")\n",
        "\n",
        "elif (m_agua > 50):\n",
        "    subtotal = ((m_agua - 50) * 11) + 350 + 88 + 50\n",
        "    iva = subtotal * .16\n",
        "    total = subtotal + iva\n",
        "    print(f\"Subtotal = ${subtotal}\")\n",
        "    print(f\"IVA = ${iva}\")\n",
        "    print(f\"Total: {total}\")"
      ],
      "metadata": {
        "colab": {
          "base_uri": "https://localhost:8080/"
        },
        "id": "cjgrhgx4qdi0",
        "outputId": "d98e11e9-ccbc-4aea-b1f0-fc99e590a3d5"
      },
      "execution_count": null,
      "outputs": [
        {
          "output_type": "stream",
          "name": "stdout",
          "text": [
            "Metros cuadrados de agua consumidos: 34\n",
            "Subtotal = $328\n",
            "IVA = $52.480000000000004\n",
            "Total: 380.48\n"
          ]
        }
      ]
    },
    {
      "cell_type": "markdown",
      "source": [
        "##5- En la materia de Metodología de la programación se aplican 5 exámenes, calcular el promedio final de la materia donde la calificación menor de los exámenes se anula y el promedio se calcula en base a 4 exámenes."
      ],
      "metadata": {
        "id": "JE0yrLYItvQz"
      }
    },
    {
      "cell_type": "code",
      "source": [
        "cal1 = int(input(\"Calificacion Examen 1: \"))\n",
        "cal2 = int(input(\"Calificacion Examen 2: \"))\n",
        "cal3 = int(input(\"Calificacion Examen 3: \"))\n",
        "cal4 = int(input(\"Calificacion Examen 4: \"))\n",
        "cal5 = int(input(\"Calificacion Examen 5: \"))\n",
        "\n",
        "cal_menor = cal1\n",
        "\n",
        "if (cal2 < cal_menor):\n",
        "    menor = cal2\n",
        "\n",
        "if (cal3 < cal_menor):\n",
        "    menor = cal3\n",
        "\n",
        "if (cal4 < cal_menor):\n",
        "    menor = cal4\n",
        "\n",
        "if (cal5 < menor):\n",
        "    menor = cal5\n",
        "\n",
        "prom = (cal1 + cal2 + cal3 + cal4 + cal5 - menor) / 4\n",
        "\n",
        "print(f\"Promedio total: {prom}\")"
      ],
      "metadata": {
        "colab": {
          "base_uri": "https://localhost:8080/"
        },
        "id": "Gxz1JAJFt1QK",
        "outputId": "1e2585b3-e456-4073-ada8-d67972765d0d"
      },
      "execution_count": null,
      "outputs": [
        {
          "output_type": "stream",
          "name": "stdout",
          "text": [
            "Calificacion Examen 1: 80\n",
            "Calificacion Examen 2: 70\n",
            "Calificacion Examen 3: 50\n",
            "Calificacion Examen 4: 60\n",
            "Calificacion Examen 5: 75\n",
            "Promedio total: 68.75\n"
          ]
        }
      ]
    },
    {
      "cell_type": "markdown",
      "source": [
        "##6.- Algoritmo que sirva para el juego del CHINCHAMPU (Piedra, Papel, Tijera) para 1 jugador y la computadora, (usar condición anidada)"
      ],
      "metadata": {
        "id": "WuJ_7oYXPf5h"
      }
    },
    {
      "cell_type": "code",
      "source": [
        "print(\"¡PIDERA, PAPEL O TIJERA!\")\n",
        "print(\"\\n1.-Piedra\")\n",
        "print(\"2.-Papel\")\n",
        "print(\"3.-Tijera\")\n",
        "op = int(input(\"\\nEscoge una opcion: \"))\n",
        "\n",
        "cpu = random.randint(1,3)\n",
        "\n"
      ],
      "metadata": {
        "id": "LeqD5dbJPj7h"
      },
      "execution_count": null,
      "outputs": []
    },
    {
      "cell_type": "markdown",
      "source": [
        "##7.- Algoritmo que sirva para el juego del CHINCHAMPU (Piedra, Papel, Tijera) para 1 jugador y la computadora, (usar selección múltiple)"
      ],
      "metadata": {
        "id": "YroyoKnJCcOa"
      }
    },
    {
      "cell_type": "code",
      "source": [
        "print(\"¡PIDERA, PAPEL O TIJERA!\")\n",
        "print(\"\\n1.-Piedra\")\n",
        "print(\"2.-Papel\")\n",
        "print(\"3.-Tijera\")\n",
        "op = int(input(\"\\nEscoge una opcion: \"))\n",
        "\n",
        "cpu = random.randint(1,3)\n",
        "\n",
        "if (op == 1):\n",
        "    if (cpu == 1):\n",
        "        print(\"\\nEMPATE\")\n",
        "\n"
      ],
      "metadata": {
        "id": "TnElWVxSCm1a"
      },
      "execution_count": null,
      "outputs": []
    },
    {
      "cell_type": "code",
      "source": [
        "num=random.randint(1,10)\n",
        "print(num)"
      ],
      "metadata": {
        "colab": {
          "base_uri": "https://localhost:8080/"
        },
        "id": "ZEQv0jf-GeXn",
        "outputId": "2253b466-28aa-42a5-e8eb-fcadadb7c8a5"
      },
      "execution_count": null,
      "outputs": [
        {
          "output_type": "stream",
          "name": "stdout",
          "text": [
            "6\n"
          ]
        }
      ]
    },
    {
      "cell_type": "markdown",
      "source": [
        "##8.- Una tienda de electrónica ofrece descuentos a sus clientes, dependiendo del tipo de producto que compren. Si el cliente compra una computadora, tiene un descuento del 5% en el precio de la computadora y un 10% de descuento en una impresora si la compra junto con la computadora. Si el cliente compra una televisión, tiene un descuento del 7% en el precio de la televisión y un 15% de descuento en una barra de sonido si la compra junto con la televisión. Si el cliente compra una consola de videojuegos, tiene un descuento del 10% en el precio de la consola y un 20% de descuento en un juego si lo compra junto con la consola. Escribe un programa que calcule el precio a pagar por un cliente, tomando en cuenta los descuentos correspondientes."
      ],
      "metadata": {
        "id": "cQqa6zAgSQK4"
      }
    },
    {
      "cell_type": "code",
      "source": [
        "pc = 0\n",
        "imp = 0\n",
        "tv = 0\n",
        "bocina = 0\n",
        "cons = 0\n",
        "juego = 0\n",
        "\n",
        "desc_pc = 0\n",
        "\n",
        "\n",
        "print(\"--- ELECTRONICA EL TOQUESITO ---\\n\")\n",
        "print(\"1.- Computadora: $7000\")\n",
        "print(\"2.- Impresora $1200\")\n",
        "print(\"3.- Television: $3400\")\n",
        "print(\"4.- Barra de sonido: $1000\")\n",
        "print(\"5.- Consola de videojuegos: $6300\")\n",
        "print(\"6.- Videojuego: $800\")\n",
        "\n",
        "op = int(input(\"\\nQue desea comprar: \"))\n",
        "\n",
        "if (op == 1):\n",
        "    pc = pc + 1\n",
        "elif (op == 2):\n",
        "    imp = imp + 1\n",
        "elif (op == 3):\n",
        "    tv = tv + 1\n",
        "elif (op == 4):\n",
        "    bocina = bocina + 1\n",
        "elif (op == 5):\n",
        "    cons = cons + 1\n",
        "elif (op == 6):\n",
        "    juego = juego + 1"
      ],
      "metadata": {
        "colab": {
          "base_uri": "https://localhost:8080/"
        },
        "id": "yrYfJgzySTcw",
        "outputId": "0c13be15-a3c8-40aa-c60a-44cc5a40df4c"
      },
      "execution_count": null,
      "outputs": [
        {
          "name": "stdout",
          "output_type": "stream",
          "text": [
            "--- ELECTRONICA EL TOQUESITO ---\n",
            "\n",
            "1.-Computadora: $5000\n",
            "2.- Impresora $1200\n",
            "3.- Television: $3400\n",
            "4.- Barra de sonido: $1000\n",
            "5.- Consola de videojuegos: $6300\n",
            "6.- Videojuego: $800\n",
            "\n",
            "Que desea comprar: 1\n"
          ]
        }
      ]
    }
  ]
}
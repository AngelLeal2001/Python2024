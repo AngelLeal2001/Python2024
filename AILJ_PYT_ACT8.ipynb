{
  "nbformat": 4,
  "nbformat_minor": 0,
  "metadata": {
    "colab": {
      "provenance": [],
      "authorship_tag": "ABX9TyMHpwziBNAKG4OFFXfBAEhh",
      "include_colab_link": true
    },
    "kernelspec": {
      "name": "python3",
      "display_name": "Python 3"
    },
    "language_info": {
      "name": "python"
    }
  },
  "cells": [
    {
      "cell_type": "markdown",
      "metadata": {
        "id": "view-in-github",
        "colab_type": "text"
      },
      "source": [
        "<a href=\"https://colab.research.google.com/github/AngelLeal2001/Python2024/blob/main/AILJ_PYT_ACT8.ipynb\" target=\"_parent\"><img src=\"https://colab.research.google.com/assets/colab-badge.svg\" alt=\"Open In Colab\"/></a>"
      ]
    },
    {
      "cell_type": "markdown",
      "source": [
        "#A C T I V I D A D - 8\n",
        "LENGUAJE DE PROGRAMACION PYTHON\n",
        "\n",
        "Angel Ignacio Leal Juarez\n",
        "\n",
        "Fecha: 8 de abril del 2024\n",
        "\n",
        "Github: https://github.com/AngelLeal2001/Python2024.git"
      ],
      "metadata": {
        "id": "SBn6gXBzpMQh"
      }
    },
    {
      "cell_type": "code",
      "execution_count": 1,
      "metadata": {
        "id": "uNecuCHlpICE"
      },
      "outputs": [],
      "source": [
        "import random\n",
        "from IPython.display import clear_output"
      ]
    },
    {
      "cell_type": "code",
      "source": [
        "def valinum(ri , rf, msge):\n",
        "    while (True):\n",
        "        try:\n",
        "            num = int(input(f\"{msge} \"))\n",
        "        except:\n",
        "            print(\"EROR\")\n",
        "            continue\n",
        "        if ( num < ri or num > rf):\n",
        "            print(\"EROR, numero fuera de rango\")\n",
        "            continue\n",
        "        break\n",
        "\n",
        "    return num"
      ],
      "metadata": {
        "id": "D_IOLbkFvv1e"
      },
      "execution_count": 2,
      "outputs": []
    },
    {
      "cell_type": "markdown",
      "source": [
        "##1.- Programa en python que genere un número entre el 1 y 10 (no visible)  preguntarle al usuario que número cree que generó la computadora, el usuario tendrá 3 oportunidades de adivinar. Decir si adivino o si falló en sus 3 intentos."
      ],
      "metadata": {
        "id": "ILAE-EA5q2OZ"
      }
    },
    {
      "cell_type": "code",
      "source": [
        "def adivina_num():\n",
        "    pc = random.randint(1,10)\n",
        "    opor = 3\n",
        "\n",
        "    print(\" - - ADIVINA EL NUMERO - - \\n\")\n",
        "    while True:\n",
        "\n",
        "        jug = valinum(1,10,\"\\nDame un numero (1-10): \")\n",
        "\n",
        "        if jug == pc:\n",
        "            clear_output()\n",
        "            print(\"\\nGANASTE!\")\n",
        "            print(f\"El numero era el {pc}\")\n",
        "            jugar_de_nuevo()\n",
        "            break\n",
        "\n",
        "        else:\n",
        "            if opor > 1:\n",
        "                opor-=1\n",
        "                clear_output()\n",
        "                print(\"\\nVuelve a intentarlo\")\n",
        "                print(f\"oportunidades: {opor}\\n\")\n",
        "                continue\n",
        "\n",
        "            else:\n",
        "                clear_output()\n",
        "                print(\"\\n Fin del juego\")\n",
        "                print(f\"El numero era el {pc}\")\n",
        "                jugar_de_nuevo()\n",
        "                break\n",
        "\n",
        "def jugar_de_nuevo():\n",
        "        print(\"\\nDeseas jugar de nuevo?\")\n",
        "        print(\"1.- Si\")\n",
        "        print(\"2.- No\")\n",
        "        op = valinum(1,2,\"\\nEscoge una opcion: \")\n",
        "\n",
        "        if op == 1:\n",
        "            clear_output()\n",
        "            adivina_num()\n",
        "        else:\n",
        "            clear_output()\n",
        "            print(\"\\nQue tenga un buen dia :D\")"
      ],
      "metadata": {
        "id": "NwR4JmG0qzKx"
      },
      "execution_count": 9,
      "outputs": []
    },
    {
      "cell_type": "code",
      "source": [
        "adivina_num()"
      ],
      "metadata": {
        "colab": {
          "base_uri": "https://localhost:8080/"
        },
        "id": "n1dnQkNGw4cs",
        "outputId": "22e74abd-3965-494b-a1d6-9eeb2202afd0"
      },
      "execution_count": 10,
      "outputs": [
        {
          "output_type": "stream",
          "name": "stdout",
          "text": [
            "\n",
            "Que tenga un buen dia :D\n"
          ]
        }
      ]
    },
    {
      "cell_type": "markdown",
      "source": [
        "##2.- El juego Busca Número muestra una lista de 10 numeros, sin mostrar su contenido,\n",
        "\n",
        "###Al usuario se le muestra un número que se generó aleatoriamente y el usuario tendrá 3 intentos de adivinar en qué índice del arreglo se encuentra.  El usuario recibirá un mensaje que diga GANASTE, PERDISTE, TIENES UN NUEVO INTENTO. El usuario podrá jugar cuantas veces lo desee."
      ],
      "metadata": {
        "id": "E2PcY9STzxAo"
      }
    },
    {
      "cell_type": "code",
      "source": [
        "def adivinar_indice():\n",
        "    lista = []\n",
        "    i = 0\n",
        "    opor = 3\n",
        "\n",
        "    while True:\n",
        "        num = random.randint(1,10)\n",
        "        if num not in lista:\n",
        "            lista.append(num)\n",
        "            i+=1\n",
        "\n",
        "        if i == 10:\n",
        "            break\n",
        "\n",
        "        num = random.randint(1,10)\n",
        "\n",
        "    print(\" - - ADIVINA EL INDICE - - \\n\")\n",
        "\n",
        "    while True:\n",
        "        jug = valinum(0,9,f\"\\n en donde esta el numero {num}? (0-9): \")\n",
        "\n",
        "        if lista[jug] == num:\n",
        "            clear_output()\n",
        "            print(\"\\nGANASTE!\")\n",
        "            print(f\"El numero esta en el indice {jug}\")\n",
        "            jugar_de_nuevo()\n",
        "            break\n",
        "\n",
        "        else:\n",
        "            if opor > 1:\n",
        "                opor-=1\n",
        "                clear_output()\n",
        "                print(\"\\nVuelve a intentarlo\")\n",
        "                print(f\"oportunidades: {opor}\\n\")\n",
        "                continue\n",
        "\n",
        "            else:\n",
        "                clear_output()\n",
        "                print(\"\\n Fin del juego\")\n",
        "                jugar_de_nuevo()\n",
        "                break\n",
        "\n",
        "def jugar_de_nuevo():\n",
        "    print(\"\\nDeseas jugar de nuevo?\")\n",
        "    print(\"1.- Si\")\n",
        "    print(\"2.- No\")\n",
        "    op = valinum(1,2,\"\\nEscoge una opcion: \")\n",
        "\n",
        "    if op == 1:\n",
        "        clear_output()\n",
        "        adivinar_indice()\n",
        "    else:\n",
        "        clear_output()\n",
        "        print(\"\\nQue tenga un buen dia :D\")"
      ],
      "metadata": {
        "id": "EqecKxZGz5Hn"
      },
      "execution_count": 9,
      "outputs": []
    },
    {
      "cell_type": "code",
      "source": [
        "adivinar_indice()"
      ],
      "metadata": {
        "colab": {
          "base_uri": "https://localhost:8080/"
        },
        "id": "k0qDQ5J_3c6S",
        "outputId": "46a48765-e4e2-4bcb-9c61-33346b71c22c"
      },
      "execution_count": 10,
      "outputs": [
        {
          "output_type": "stream",
          "name": "stdout",
          "text": [
            "\n",
            "Que tenga un buen dia :D\n"
          ]
        }
      ]
    }
  ]
}
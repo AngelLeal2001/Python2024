{
  "nbformat": 4,
  "nbformat_minor": 0,
  "metadata": {
    "colab": {
      "provenance": [],
      "authorship_tag": "ABX9TyMRZdSkgJwt0aUM5bLGFKeQ",
      "include_colab_link": true
    },
    "kernelspec": {
      "name": "python3",
      "display_name": "Python 3"
    },
    "language_info": {
      "name": "python"
    }
  },
  "cells": [
    {
      "cell_type": "markdown",
      "metadata": {
        "id": "view-in-github",
        "colab_type": "text"
      },
      "source": [
        "<a href=\"https://colab.research.google.com/github/AngelLeal2001/Python2024/blob/main/AILJ_PYT_ACT1.ipynb\" target=\"_parent\"><img src=\"https://colab.research.google.com/assets/colab-badge.svg\" alt=\"Open In Colab\"/></a>"
      ]
    },
    {
      "cell_type": "markdown",
      "source": [
        "#ACTIVIDAD 1\n",
        "\n",
        "Angel Ignacio Leal Juarez\n",
        "\n",
        "7 de Febrero del 2024\n",
        "\n",
        "Git Hub: https://github.com/AngelLeal2001/Python2024.git"
      ],
      "metadata": {
        "id": "rDV0F8qCSPuB"
      }
    },
    {
      "cell_type": "markdown",
      "source": [
        "1.- Programa en Python Mostrar un mensaje que diga “HOLA MUNDO” en un solo renglón usando 2 print"
      ],
      "metadata": {
        "id": "jZQByUtNSZhS"
      }
    },
    {
      "cell_type": "code",
      "execution_count": null,
      "metadata": {
        "colab": {
          "base_uri": "https://localhost:8080/"
        },
        "id": "YXEwf44PSKCF",
        "outputId": "4523bb6a-1b0f-4fd3-b3b2-afc8c1a9c30d"
      },
      "outputs": [
        {
          "output_type": "stream",
          "name": "stdout",
          "text": [
            "Hola mundo\n"
          ]
        }
      ],
      "source": [
        "print(\"Hola\", end=\" \")\n",
        "print(\"mundo\")"
      ]
    },
    {
      "cell_type": "markdown",
      "source": [
        "2.- Programa en Python que lea 2 números, realizar la suma y desplegar la suma de los 2 números"
      ],
      "metadata": {
        "id": "d1o7vF8MTD3y"
      }
    },
    {
      "cell_type": "code",
      "source": [
        "num1 = int(input(\"numero 1: \"))\n",
        "num2 = int(input(\"numero 2: \"))\n",
        "\n",
        "suma = num1 + num2\n",
        "\n",
        "print(\"Suma de los 2 numeros: \", suma)"
      ],
      "metadata": {
        "colab": {
          "base_uri": "https://localhost:8080/"
        },
        "id": "cOHbYzrCTHO8",
        "outputId": "323d5725-51dc-4b3e-8f55-0aee62af167b"
      },
      "execution_count": null,
      "outputs": [
        {
          "output_type": "stream",
          "name": "stdout",
          "text": [
            "numero 1: 2\n",
            "numero 2: 5\n",
            "Suma de los 2 numeros:  7\n"
          ]
        }
      ]
    },
    {
      "cell_type": "markdown",
      "source": [
        "3.- Programa en Python que lea 2 números y realice las 4 operaciones básicas"
      ],
      "metadata": {
        "id": "iAMFuffdTabS"
      }
    },
    {
      "cell_type": "code",
      "source": [
        "num1 = int(input(\"numero 1: \"))\n",
        "num2 = int(input(\"numero 2: \"))\n",
        "\n",
        "suma = num1 + num2\n",
        "resta = num1 - num2\n",
        "multi = num1 * num2\n",
        "div = num1 / num2\n",
        "\n",
        "print(f\"Suma de los numeros: {suma}\")\n",
        "print(f\"resta de os numeros: {resta}\")\n",
        "print(f\"multiplicacion de los numeros: {multi}\")\n",
        "print(f\"Division de los numeros: {div}\")"
      ],
      "metadata": {
        "colab": {
          "base_uri": "https://localhost:8080/"
        },
        "id": "2ib5gLxdTc9i",
        "outputId": "f592b325-05a2-44b5-8aa5-1ce4ff495633"
      },
      "execution_count": null,
      "outputs": [
        {
          "output_type": "stream",
          "name": "stdout",
          "text": [
            "numero 1: 2\n",
            "numero 2: 2\n",
            "Suma de los numeros: 4\n",
            "resta de os numeros: 0\n",
            "multiplicacion de los numeros: 4\n",
            "Division de los numeros: 1.0\n"
          ]
        }
      ]
    },
    {
      "cell_type": "markdown",
      "source": [
        "4.- Programa en Python Que sirva para calcular el área de un triángulo\n",
        "\n"
      ],
      "metadata": {
        "id": "MhvLmGQPT7ic"
      }
    },
    {
      "cell_type": "code",
      "source": [
        "b = int(input(\"Base del triangulo: \"))\n",
        "h = int(input(\"Altura del triangulo: \"))\n",
        "\n",
        "area = (b * h) / 2\n",
        "\n",
        "print(f\"El area del triangulo es de: {area} \")"
      ],
      "metadata": {
        "colab": {
          "base_uri": "https://localhost:8080/"
        },
        "id": "sobUTIziT_yO",
        "outputId": "ab10be7e-c683-4f4f-f1bc-f52a71f7b124"
      },
      "execution_count": null,
      "outputs": [
        {
          "output_type": "stream",
          "name": "stdout",
          "text": [
            "Base del triangulo: 5\n",
            "Altura del triangulo: 7\n",
            "El area del triangulo es de: 17.5 \n"
          ]
        }
      ]
    },
    {
      "cell_type": "markdown",
      "source": [
        "5.- Programa en Python que lea una medida en centímetros y desplegar la misma medida pero convertida en pies y pulgadas"
      ],
      "metadata": {
        "id": "fyQlgV6fUV0P"
      }
    },
    {
      "cell_type": "code",
      "source": [
        "cm = int(input(\"Medida en centimetros: \"))\n",
        "\n",
        "pie = cm / 30.48\n",
        "print(f\"\\n{cm} centimetros son igual a {pie} pies\")\n",
        "\n",
        "pulg = cm / 2.54\n",
        "print(f\"\\n{cm} centimetros son igual a {pulg} pulgadas\")"
      ],
      "metadata": {
        "colab": {
          "base_uri": "https://localhost:8080/"
        },
        "id": "rMt-PWvSUYLn",
        "outputId": "585f47bb-1921-497a-857e-1eb1f1b892a3"
      },
      "execution_count": null,
      "outputs": [
        {
          "output_type": "stream",
          "name": "stdout",
          "text": [
            "Medida en centimetros: 5\n",
            "\n",
            "5 centimetros son igual a 0.16404199475065617 pies\n",
            "\n",
            "5 centimetros son igual a 1.968503937007874 pulgadas\n"
          ]
        }
      ]
    },
    {
      "cell_type": "markdown",
      "source": [
        "6.- Programa en Python que lea una temperatura en grados centígrados y desplegarla en Grados Fahrenheit y grados kelvin"
      ],
      "metadata": {
        "id": "TghHB5dnVNdk"
      }
    },
    {
      "cell_type": "code",
      "source": [
        "cent = int(input(\"temperatura en centigrados: \"))\n",
        "\n",
        "fhar = cent * (9/5) + 32\n",
        "print(f\"\\n{cent} grados centigrados son igual a {fhar} fharenheit\")\n",
        "\n",
        "kel = cent + 273.15\n",
        "print(f\"\\n{cent} grados centigrados son igual a {kel} kelvin\")"
      ],
      "metadata": {
        "colab": {
          "base_uri": "https://localhost:8080/"
        },
        "id": "OCusWBzWVQYc",
        "outputId": "ab64265d-9582-4185-c9cf-46f5239af703"
      },
      "execution_count": null,
      "outputs": [
        {
          "output_type": "stream",
          "name": "stdout",
          "text": [
            "temperatura en centigrados: 23\n",
            "\n",
            "23 grados centigrados son igual a 73.4 fharenheit\n",
            "\n",
            "23 grados centigrados son igual a 296.15 kelvin\n"
          ]
        }
      ]
    },
    {
      "cell_type": "markdown",
      "source": [
        "7.- Programa en Python que lea 4 calificaciones de un alumno, desplegar el promedio del alumno"
      ],
      "metadata": {
        "id": "xqRZTdSLWfFg"
      }
    },
    {
      "cell_type": "code",
      "source": [
        "cal1 = int(input(\"Calificacion 1: \"))\n",
        "cal2 = int(input(\"Calificacion 2: \"))\n",
        "cal3 = int(input(\"Calificacion 3: \"))\n",
        "cal4 = int(input(\"Calificacion 4: \"))\n",
        "\n",
        "prom = (cal1 + cal2 + cal3 + cal4) / 4\n",
        "\n",
        "print(f\"\\n Promedio del alumno: {prom}\")"
      ],
      "metadata": {
        "colab": {
          "base_uri": "https://localhost:8080/"
        },
        "id": "Q88AQVPMW9m1",
        "outputId": "58358fb5-db66-42b6-f570-9e7e2185b5f2"
      },
      "execution_count": null,
      "outputs": [
        {
          "output_type": "stream",
          "name": "stdout",
          "text": [
            "Calificacion 1: 70\n",
            "Calificacion 2: 89\n",
            "Calificacion 3: 68\n",
            "Calificacion 4: 82\n",
            "\n",
            " Promedio del alumno: 77.25\n"
          ]
        }
      ]
    }
  ]
}